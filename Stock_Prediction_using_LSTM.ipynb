{
  "nbformat": 4,
  "nbformat_minor": 0,
  "metadata": {
    "kernelspec": {
      "display_name": "Python 3",
      "language": "python",
      "name": "python3"
    },
    "language_info": {
      "codemirror_mode": {
        "name": "ipython",
        "version": 3
      },
      "file_extension": ".py",
      "mimetype": "text/x-python",
      "name": "python",
      "nbconvert_exporter": "python",
      "pygments_lexer": "ipython3",
      "version": "3.7.4"
    },
    "colab": {
      "name": "Stock Prediction using LSTM.ipynb",
      "provenance": []
    }
  },
  "cells": [
    {
      "cell_type": "markdown",
      "metadata": {
        "id": "7uy-urJJ5bPR",
        "colab_type": "text"
      },
      "source": [
        "## Strock Market Using LSTM"
      ]
    },
    {
      "cell_type": "code",
      "metadata": {
        "id": "-ZTiJ2y_5bPX",
        "colab_type": "code",
        "colab": {
          "base_uri": "https://localhost:8080/",
          "height": 74
        },
        "outputId": "cffd8fff-e472-4452-9cbd-b39261c38d98"
      },
      "source": [
        "import pandas_datareader as pdr"
      ],
      "execution_count": 1,
      "outputs": [
        {
          "output_type": "stream",
          "text": [
            "/usr/local/lib/python3.6/dist-packages/pandas_datareader/compat/__init__.py:7: FutureWarning: pandas.util.testing is deprecated. Use the functions in the public API at pandas.testing instead.\n",
            "  from pandas.util.testing import assert_frame_equal\n"
          ],
          "name": "stderr"
        }
      ]
    },
    {
      "cell_type": "code",
      "metadata": {
        "id": "hMy888hE5bQv",
        "colab_type": "code",
        "colab": {}
      },
      "source": [
        "data= pdr.get_data_tiingo('AAPL', api_key='0d8894f5d38234cce4be3fd724fb71947d21842e')"
      ],
      "execution_count": 0,
      "outputs": []
    },
    {
      "cell_type": "code",
      "metadata": {
        "id": "eZL3pOk45bVi",
        "colab_type": "code",
        "colab": {}
      },
      "source": [
        "data.to_csv('AAPL.csv')"
      ],
      "execution_count": 0,
      "outputs": []
    },
    {
      "cell_type": "code",
      "metadata": {
        "id": "YwOGukCW5bWj",
        "colab_type": "code",
        "colab": {}
      },
      "source": [
        "import pandas as pd"
      ],
      "execution_count": 0,
      "outputs": []
    },
    {
      "cell_type": "code",
      "metadata": {
        "id": "8fRBcD865bXQ",
        "colab_type": "code",
        "colab": {
          "base_uri": "https://localhost:8080/",
          "height": 206
        },
        "outputId": "ec299217-7481-41ad-c355-8d1dec2d2738"
      },
      "source": [
        "data=pd.read_csv('AAPL.csv')\n",
        "data.head()"
      ],
      "execution_count": 5,
      "outputs": [
        {
          "output_type": "execute_result",
          "data": {
            "text/html": [
              "<div>\n",
              "<style scoped>\n",
              "    .dataframe tbody tr th:only-of-type {\n",
              "        vertical-align: middle;\n",
              "    }\n",
              "\n",
              "    .dataframe tbody tr th {\n",
              "        vertical-align: top;\n",
              "    }\n",
              "\n",
              "    .dataframe thead th {\n",
              "        text-align: right;\n",
              "    }\n",
              "</style>\n",
              "<table border=\"1\" class=\"dataframe\">\n",
              "  <thead>\n",
              "    <tr style=\"text-align: right;\">\n",
              "      <th></th>\n",
              "      <th>symbol</th>\n",
              "      <th>date</th>\n",
              "      <th>close</th>\n",
              "      <th>high</th>\n",
              "      <th>low</th>\n",
              "      <th>open</th>\n",
              "      <th>volume</th>\n",
              "      <th>adjClose</th>\n",
              "      <th>adjHigh</th>\n",
              "      <th>adjLow</th>\n",
              "      <th>adjOpen</th>\n",
              "      <th>adjVolume</th>\n",
              "      <th>divCash</th>\n",
              "      <th>splitFactor</th>\n",
              "    </tr>\n",
              "  </thead>\n",
              "  <tbody>\n",
              "    <tr>\n",
              "      <th>0</th>\n",
              "      <td>AAPL</td>\n",
              "      <td>2015-05-29 00:00:00+00:00</td>\n",
              "      <td>130.280</td>\n",
              "      <td>131.450</td>\n",
              "      <td>129.90</td>\n",
              "      <td>131.23</td>\n",
              "      <td>50884452</td>\n",
              "      <td>120.056069</td>\n",
              "      <td>121.134251</td>\n",
              "      <td>119.705890</td>\n",
              "      <td>120.931516</td>\n",
              "      <td>50884452</td>\n",
              "      <td>0.0</td>\n",
              "      <td>1.0</td>\n",
              "    </tr>\n",
              "    <tr>\n",
              "      <th>1</th>\n",
              "      <td>AAPL</td>\n",
              "      <td>2015-06-01 00:00:00+00:00</td>\n",
              "      <td>130.535</td>\n",
              "      <td>131.390</td>\n",
              "      <td>130.05</td>\n",
              "      <td>131.20</td>\n",
              "      <td>32112797</td>\n",
              "      <td>120.291057</td>\n",
              "      <td>121.078960</td>\n",
              "      <td>119.844118</td>\n",
              "      <td>120.903870</td>\n",
              "      <td>32112797</td>\n",
              "      <td>0.0</td>\n",
              "      <td>1.0</td>\n",
              "    </tr>\n",
              "    <tr>\n",
              "      <th>2</th>\n",
              "      <td>AAPL</td>\n",
              "      <td>2015-06-02 00:00:00+00:00</td>\n",
              "      <td>129.960</td>\n",
              "      <td>130.655</td>\n",
              "      <td>129.32</td>\n",
              "      <td>129.86</td>\n",
              "      <td>33667627</td>\n",
              "      <td>119.761181</td>\n",
              "      <td>120.401640</td>\n",
              "      <td>119.171406</td>\n",
              "      <td>119.669029</td>\n",
              "      <td>33667627</td>\n",
              "      <td>0.0</td>\n",
              "      <td>1.0</td>\n",
              "    </tr>\n",
              "    <tr>\n",
              "      <th>3</th>\n",
              "      <td>AAPL</td>\n",
              "      <td>2015-06-03 00:00:00+00:00</td>\n",
              "      <td>130.120</td>\n",
              "      <td>130.940</td>\n",
              "      <td>129.90</td>\n",
              "      <td>130.66</td>\n",
              "      <td>30983542</td>\n",
              "      <td>119.908625</td>\n",
              "      <td>120.664274</td>\n",
              "      <td>119.705890</td>\n",
              "      <td>120.406248</td>\n",
              "      <td>30983542</td>\n",
              "      <td>0.0</td>\n",
              "      <td>1.0</td>\n",
              "    </tr>\n",
              "    <tr>\n",
              "      <th>4</th>\n",
              "      <td>AAPL</td>\n",
              "      <td>2015-06-04 00:00:00+00:00</td>\n",
              "      <td>129.360</td>\n",
              "      <td>130.580</td>\n",
              "      <td>128.91</td>\n",
              "      <td>129.58</td>\n",
              "      <td>38450118</td>\n",
              "      <td>119.208267</td>\n",
              "      <td>120.332526</td>\n",
              "      <td>118.793582</td>\n",
              "      <td>119.411002</td>\n",
              "      <td>38450118</td>\n",
              "      <td>0.0</td>\n",
              "      <td>1.0</td>\n",
              "    </tr>\n",
              "  </tbody>\n",
              "</table>\n",
              "</div>"
            ],
            "text/plain": [
              "  symbol                       date    close  ...  adjVolume  divCash  splitFactor\n",
              "0   AAPL  2015-05-29 00:00:00+00:00  130.280  ...   50884452      0.0          1.0\n",
              "1   AAPL  2015-06-01 00:00:00+00:00  130.535  ...   32112797      0.0          1.0\n",
              "2   AAPL  2015-06-02 00:00:00+00:00  129.960  ...   33667627      0.0          1.0\n",
              "3   AAPL  2015-06-03 00:00:00+00:00  130.120  ...   30983542      0.0          1.0\n",
              "4   AAPL  2015-06-04 00:00:00+00:00  129.360  ...   38450118      0.0          1.0\n",
              "\n",
              "[5 rows x 14 columns]"
            ]
          },
          "metadata": {
            "tags": []
          },
          "execution_count": 5
        }
      ]
    },
    {
      "cell_type": "code",
      "metadata": {
        "id": "5YcwUC7G5bXn",
        "colab_type": "code",
        "colab": {
          "base_uri": "https://localhost:8080/",
          "height": 206
        },
        "outputId": "f7af0e38-c62c-494b-d8d4-e53aa4831c8f"
      },
      "source": [
        "data.tail()"
      ],
      "execution_count": 6,
      "outputs": [
        {
          "output_type": "execute_result",
          "data": {
            "text/html": [
              "<div>\n",
              "<style scoped>\n",
              "    .dataframe tbody tr th:only-of-type {\n",
              "        vertical-align: middle;\n",
              "    }\n",
              "\n",
              "    .dataframe tbody tr th {\n",
              "        vertical-align: top;\n",
              "    }\n",
              "\n",
              "    .dataframe thead th {\n",
              "        text-align: right;\n",
              "    }\n",
              "</style>\n",
              "<table border=\"1\" class=\"dataframe\">\n",
              "  <thead>\n",
              "    <tr style=\"text-align: right;\">\n",
              "      <th></th>\n",
              "      <th>symbol</th>\n",
              "      <th>date</th>\n",
              "      <th>close</th>\n",
              "      <th>high</th>\n",
              "      <th>low</th>\n",
              "      <th>open</th>\n",
              "      <th>volume</th>\n",
              "      <th>adjClose</th>\n",
              "      <th>adjHigh</th>\n",
              "      <th>adjLow</th>\n",
              "      <th>adjOpen</th>\n",
              "      <th>adjVolume</th>\n",
              "      <th>divCash</th>\n",
              "      <th>splitFactor</th>\n",
              "    </tr>\n",
              "  </thead>\n",
              "  <tbody>\n",
              "    <tr>\n",
              "      <th>1252</th>\n",
              "      <td>AAPL</td>\n",
              "      <td>2020-05-19 00:00:00+00:00</td>\n",
              "      <td>313.14</td>\n",
              "      <td>318.52</td>\n",
              "      <td>313.01</td>\n",
              "      <td>315.03</td>\n",
              "      <td>25432385</td>\n",
              "      <td>313.14</td>\n",
              "      <td>318.52</td>\n",
              "      <td>313.01</td>\n",
              "      <td>315.03</td>\n",
              "      <td>25432385</td>\n",
              "      <td>0.0</td>\n",
              "      <td>1.0</td>\n",
              "    </tr>\n",
              "    <tr>\n",
              "      <th>1253</th>\n",
              "      <td>AAPL</td>\n",
              "      <td>2020-05-20 00:00:00+00:00</td>\n",
              "      <td>319.23</td>\n",
              "      <td>319.52</td>\n",
              "      <td>316.20</td>\n",
              "      <td>316.68</td>\n",
              "      <td>27876215</td>\n",
              "      <td>319.23</td>\n",
              "      <td>319.52</td>\n",
              "      <td>316.20</td>\n",
              "      <td>316.68</td>\n",
              "      <td>27876215</td>\n",
              "      <td>0.0</td>\n",
              "      <td>1.0</td>\n",
              "    </tr>\n",
              "    <tr>\n",
              "      <th>1254</th>\n",
              "      <td>AAPL</td>\n",
              "      <td>2020-05-21 00:00:00+00:00</td>\n",
              "      <td>316.85</td>\n",
              "      <td>320.89</td>\n",
              "      <td>315.87</td>\n",
              "      <td>318.66</td>\n",
              "      <td>25672211</td>\n",
              "      <td>316.85</td>\n",
              "      <td>320.89</td>\n",
              "      <td>315.87</td>\n",
              "      <td>318.66</td>\n",
              "      <td>25672211</td>\n",
              "      <td>0.0</td>\n",
              "      <td>1.0</td>\n",
              "    </tr>\n",
              "    <tr>\n",
              "      <th>1255</th>\n",
              "      <td>AAPL</td>\n",
              "      <td>2020-05-22 00:00:00+00:00</td>\n",
              "      <td>318.89</td>\n",
              "      <td>319.23</td>\n",
              "      <td>315.35</td>\n",
              "      <td>315.77</td>\n",
              "      <td>20450754</td>\n",
              "      <td>318.89</td>\n",
              "      <td>319.23</td>\n",
              "      <td>315.35</td>\n",
              "      <td>315.77</td>\n",
              "      <td>20450754</td>\n",
              "      <td>0.0</td>\n",
              "      <td>1.0</td>\n",
              "    </tr>\n",
              "    <tr>\n",
              "      <th>1256</th>\n",
              "      <td>AAPL</td>\n",
              "      <td>2020-05-26 00:00:00+00:00</td>\n",
              "      <td>316.73</td>\n",
              "      <td>324.24</td>\n",
              "      <td>316.50</td>\n",
              "      <td>323.50</td>\n",
              "      <td>31380454</td>\n",
              "      <td>316.73</td>\n",
              "      <td>324.24</td>\n",
              "      <td>316.50</td>\n",
              "      <td>323.50</td>\n",
              "      <td>31380454</td>\n",
              "      <td>0.0</td>\n",
              "      <td>1.0</td>\n",
              "    </tr>\n",
              "  </tbody>\n",
              "</table>\n",
              "</div>"
            ],
            "text/plain": [
              "     symbol                       date   close  ...  adjVolume  divCash  splitFactor\n",
              "1252   AAPL  2020-05-19 00:00:00+00:00  313.14  ...   25432385      0.0          1.0\n",
              "1253   AAPL  2020-05-20 00:00:00+00:00  319.23  ...   27876215      0.0          1.0\n",
              "1254   AAPL  2020-05-21 00:00:00+00:00  316.85  ...   25672211      0.0          1.0\n",
              "1255   AAPL  2020-05-22 00:00:00+00:00  318.89  ...   20450754      0.0          1.0\n",
              "1256   AAPL  2020-05-26 00:00:00+00:00  316.73  ...   31380454      0.0          1.0\n",
              "\n",
              "[5 rows x 14 columns]"
            ]
          },
          "metadata": {
            "tags": []
          },
          "execution_count": 6
        }
      ]
    },
    {
      "cell_type": "code",
      "metadata": {
        "id": "NSL5cLGT5bYO",
        "colab_type": "code",
        "colab": {}
      },
      "source": [
        "data2=data.reset_index()['close']"
      ],
      "execution_count": 0,
      "outputs": []
    },
    {
      "cell_type": "code",
      "metadata": {
        "id": "55uKHW3r5bYf",
        "colab_type": "code",
        "colab": {
          "base_uri": "https://localhost:8080/",
          "height": 237
        },
        "outputId": "079d76d4-c6a7-40dd-b017-53c430601bdd"
      },
      "source": [
        "data2[500:]"
      ],
      "execution_count": 8,
      "outputs": [
        {
          "output_type": "execute_result",
          "data": {
            "text/plain": [
              "500     153.80\n",
              "501     153.34\n",
              "502     153.87\n",
              "503     153.61\n",
              "504     153.67\n",
              "         ...  \n",
              "1252    313.14\n",
              "1253    319.23\n",
              "1254    316.85\n",
              "1255    318.89\n",
              "1256    316.73\n",
              "Name: close, Length: 757, dtype: float64"
            ]
          },
          "metadata": {
            "tags": []
          },
          "execution_count": 8
        }
      ]
    },
    {
      "cell_type": "code",
      "metadata": {
        "id": "X3cMZO-95bYv",
        "colab_type": "code",
        "colab": {
          "base_uri": "https://localhost:8080/",
          "height": 35
        },
        "outputId": "a31c15e8-e7ae-4d3d-d396-6c6b27eb4b6a"
      },
      "source": [
        "data2.shape"
      ],
      "execution_count": 9,
      "outputs": [
        {
          "output_type": "execute_result",
          "data": {
            "text/plain": [
              "(1257,)"
            ]
          },
          "metadata": {
            "tags": []
          },
          "execution_count": 9
        }
      ]
    },
    {
      "cell_type": "code",
      "metadata": {
        "id": "xHJczn-85bZH",
        "colab_type": "code",
        "colab": {}
      },
      "source": [
        "import matplotlib.pyplot as plt"
      ],
      "execution_count": 0,
      "outputs": []
    },
    {
      "cell_type": "code",
      "metadata": {
        "id": "9Zn_Mmrx5bZU",
        "colab_type": "code",
        "colab": {
          "base_uri": "https://localhost:8080/",
          "height": 283
        },
        "outputId": "b038cf01-5106-4896-df00-d8c40cef2815"
      },
      "source": [
        "plt.plot(data2)"
      ],
      "execution_count": 11,
      "outputs": [
        {
          "output_type": "execute_result",
          "data": {
            "text/plain": [
              "[<matplotlib.lines.Line2D at 0x7f22452e8d68>]"
            ]
          },
          "metadata": {
            "tags": []
          },
          "execution_count": 11
        },
        {
          "output_type": "display_data",
          "data": {
            "image/png": "[encoded data removed]",
            "text/plain": [
              "<Figure size 432x288 with 1 Axes>"
            ]
          },
          "metadata": {
            "tags": [],
            "needs_background": "light"
          }
        }
      ]
    },
    {
      "cell_type": "markdown",
      "metadata": {
        "id": "BFG9TP_d5bZm",
        "colab_type": "text"
      },
      "source": [
        "## Scaling the Close Column as a predictor"
      ]
    },
    {
      "cell_type": "code",
      "metadata": {
        "id": "0xaxVj1k5bZq",
        "colab_type": "code",
        "colab": {}
      },
      "source": [
        "import numpy as np"
      ],
      "execution_count": 0,
      "outputs": []
    },
    {
      "cell_type": "code",
      "metadata": {
        "id": "4oTYGIuN5bZ_",
        "colab_type": "code",
        "colab": {}
      },
      "source": [
        "from sklearn.preprocessing import MinMaxScaler"
      ],
      "execution_count": 0,
      "outputs": []
    },
    {
      "cell_type": "code",
      "metadata": {
        "id": "9wj6tTTO5baP",
        "colab_type": "code",
        "colab": {}
      },
      "source": [
        "scaler=MinMaxScaler(feature_range=(0,1))"
      ],
      "execution_count": 0,
      "outputs": []
    },
    {
      "cell_type": "code",
      "metadata": {
        "id": "Mq9i5erR5bad",
        "colab_type": "code",
        "colab": {}
      },
      "source": [
        "data2=scaler.fit_transform(np.array(data2).reshape(-1,1))"
      ],
      "execution_count": 0,
      "outputs": []
    },
    {
      "cell_type": "code",
      "metadata": {
        "id": "7bBTkIz25bas",
        "colab_type": "code",
        "colab": {
          "base_uri": "https://localhost:8080/",
          "height": 146
        },
        "outputId": "38b3cb40-ea01-4500-e92b-5dbe6af8a173"
      },
      "source": [
        "data2"
      ],
      "execution_count": 16,
      "outputs": [
        {
          "output_type": "execute_result",
          "data": {
            "text/plain": [
              "array([[0.16862282],\n",
              "       [0.1696994 ],\n",
              "       [0.16727181],\n",
              "       ...,\n",
              "       [0.9563033 ],\n",
              "       [0.96491598],\n",
              "       [0.95579667]])"
            ]
          },
          "metadata": {
            "tags": []
          },
          "execution_count": 16
        }
      ]
    },
    {
      "cell_type": "markdown",
      "metadata": {
        "id": "LR7lUsve5ba3",
        "colab_type": "text"
      },
      "source": [
        "## Splitting the dataset"
      ]
    },
    {
      "cell_type": "code",
      "metadata": {
        "id": "kMsL6QQl5ba7",
        "colab_type": "code",
        "colab": {}
      },
      "source": [
        "training=int(len(data2)*0.75)"
      ],
      "execution_count": 0,
      "outputs": []
    },
    {
      "cell_type": "code",
      "metadata": {
        "id": "kckE9BKJ5bbF",
        "colab_type": "code",
        "colab": {}
      },
      "source": [
        "testing=len(data)-training"
      ],
      "execution_count": 0,
      "outputs": []
    },
    {
      "cell_type": "code",
      "metadata": {
        "id": "wzqMrVRm5bbQ",
        "colab_type": "code",
        "colab": {}
      },
      "source": [
        "train,test=data2[0:training,:],data2[training:len(data2),:1]"
      ],
      "execution_count": 0,
      "outputs": []
    },
    {
      "cell_type": "code",
      "metadata": {
        "id": "vHeNx9gY5bbX",
        "colab_type": "code",
        "colab": {
          "base_uri": "https://localhost:8080/",
          "height": 35
        },
        "outputId": "024d26b5-1bf4-48d9-889b-fb4143f19c30"
      },
      "source": [
        "train.shape,test.shape"
      ],
      "execution_count": 20,
      "outputs": [
        {
          "output_type": "execute_result",
          "data": {
            "text/plain": [
              "((942, 1), (315, 1))"
            ]
          },
          "metadata": {
            "tags": []
          },
          "execution_count": 20
        }
      ]
    },
    {
      "cell_type": "code",
      "metadata": {
        "id": "fzFEnLQI5bbq",
        "colab_type": "code",
        "colab": {}
      },
      "source": [
        "import numpy\n",
        "def create_dataset(dataset,time_step=1):\n",
        "    dataX,dataY=[],[]\n",
        "    for i in range(len(dataset)-time_step-1):\n",
        "        a= dataset[i:(i+time_step),0]       #i=0, 0,1,2,3\n",
        "        dataX.append(a)\n",
        "        dataY.append(dataset[i+time_step,0])\n",
        "    return numpy.array(dataX), numpy.array(dataY)"
      ],
      "execution_count": 0,
      "outputs": []
    },
    {
      "cell_type": "code",
      "metadata": {
        "id": "1XO3vzvC5bb9",
        "colab_type": "code",
        "colab": {}
      },
      "source": [
        "#reshape menjadi X=t,t+1,t+2,t+4 dan Y=t+4\n",
        "time_step=100\n",
        "X_train,y_train=create_dataset(train,time_step)\n",
        "X_test,y_test= create_dataset(test,time_step)"
      ],
      "execution_count": 0,
      "outputs": []
    },
    {
      "cell_type": "code",
      "metadata": {
        "id": "pSLC2Q9z5bcH",
        "colab_type": "code",
        "colab": {
          "base_uri": "https://localhost:8080/",
          "height": 146
        },
        "outputId": "b792c5af-4e2d-44e1-fddb-b66f08e61d14"
      },
      "source": [
        "print(X_train)"
      ],
      "execution_count": 23,
      "outputs": [
        {
          "output_type": "stream",
          "text": [
            "[[0.16862282 0.1696994  0.16727181 ... 0.09085536 0.0873934  0.09030651]\n",
            " [0.1696994  0.16727181 0.16794731 ... 0.0873934  0.09030651 0.09891919]\n",
            " [0.16727181 0.16794731 0.16473866 ... 0.09030651 0.09891919 0.09887697]\n",
            " ...\n",
            " [0.55665794 0.54918517 0.56831039 ... 0.33969433 0.33809001 0.34024318]\n",
            " [0.54918517 0.56831039 0.5716457  ... 0.33809001 0.34024318 0.34488728]\n",
            " [0.56831039 0.5716457  0.57806299 ... 0.34024318 0.34488728 0.34079203]]\n"
          ],
          "name": "stdout"
        }
      ]
    },
    {
      "cell_type": "code",
      "metadata": {
        "scrolled": true,
        "id": "f7M2mEGX5bcU",
        "colab_type": "code",
        "colab": {
          "base_uri": "https://localhost:8080/",
          "height": 1000
        },
        "outputId": "248441b7-b811-4b53-9cb4-ef031fd94889"
      },
      "source": [
        "print(y_train)"
      ],
      "execution_count": 24,
      "outputs": [
        {
          "output_type": "stream",
          "text": [
            "[0.09891919 0.09887697 0.10622309 0.1213375  0.10529427 0.10221228\n",
            " 0.12213966 0.12745926 0.1231107  0.1302035  0.13607194 0.13366546\n",
            " 0.1291058  0.12969687 0.12762813 0.1115849  0.10879845 0.1071519\n",
            " 0.09288187 0.10062906 0.09858144 0.11378029 0.12007093 0.12226632\n",
            " 0.11572237 0.12049312 0.1169045  0.11597568 0.11804441 0.11399139\n",
            " 0.10951617 0.10495651 0.1211264  0.11795998 0.11774888 0.10672971\n",
            " 0.10905176 0.09642827 0.09347294 0.08507135 0.08865997 0.07869628\n",
            " 0.06624166 0.07173014 0.07130795 0.07713417 0.07468547 0.06957697\n",
            " 0.07768302 0.07168792 0.0629908  0.06337077 0.05222494 0.04373892\n",
            " 0.02579583 0.027949   0.03457739 0.04061471 0.02976442 0.03875707\n",
            " 0.02866672 0.02668243 0.02723128 0.02516254 0.04677869 0.03841932\n",
            " 0.04074137 0.01300346 0.01583214 0.02955332 0.02571139 0.01747868\n",
            " 0.02537364 0.02642911 0.0155366  0.01971629 0.01963185 0.01659208\n",
            " 0.01418559 0.01540995 0.02659799 0.03284641 0.02499367 0.02406485\n",
            " 0.02761125 0.01836528 0.02431816 0.02710462 0.0277379  0.02680909\n",
            " 0.04302119 0.04395001 0.04711644 0.05349151 0.04867854 0.04513215\n",
            " 0.04551212 0.04572321 0.05032509 0.05142278 0.0601199  0.06598835\n",
            " 0.06527062 0.06577725 0.06573503 0.06915477 0.06666385 0.06472178\n",
            " 0.06269526 0.0732078  0.08114498 0.0787385  0.0829604  0.08773115\n",
            " 0.08220046 0.08705564 0.07683864 0.07734527 0.07886515 0.08486026\n",
            " 0.0916153  0.09186861 0.08236933 0.07236342 0.06995694 0.07088576\n",
            " 0.06598835 0.064764   0.06223085 0.05914886 0.03157984 0.01895635\n",
            " 0.01435447 0.01393228 0.02043401 0.01625433 0.01224352 0.01004813\n",
            " 0.01034366 0.01300346 0.00916153 0.         0.00075994 0.01494554\n",
            " 0.013299   0.01781643 0.01629655 0.02060289 0.02571139 0.03191759\n",
            " 0.03917926 0.04251457 0.04226125 0.04019252 0.03428185 0.03115765\n",
            " 0.03200203 0.03499958 0.03668834 0.03630837 0.03930592 0.03584396\n",
            " 0.02955332 0.03005995 0.02870894 0.03043992 0.0210673  0.02009626\n",
            " 0.023516   0.02199612 0.02431816 0.01291902 0.00717724 0.01372119\n",
            " 0.01714093 0.02220721 0.02343156 0.01963185 0.02191168 0.02364266\n",
            " 0.02676687 0.02803344 0.02989107 0.02756903 0.03567508 0.03563286\n",
            " 0.04006586 0.04023474 0.04061471 0.0383771  0.03512623 0.02955332\n",
            " 0.02672465 0.0532382  0.05910665 0.0585578  0.0663261  0.05969771\n",
            " 0.0652284  0.06556616 0.07236342 0.07612092 0.07797855 0.07455881\n",
            " 0.07426328 0.07531875 0.08080723 0.08038504 0.07970953 0.07911847\n",
            " 0.0803006  0.07671198 0.07814743 0.07468547 0.07274339 0.07008359\n",
            " 0.06957697 0.066115   0.06653719 0.06919699 0.0734189  0.07329224\n",
            " 0.0760787  0.06408849 0.05399814 0.06375074 0.07434772 0.09047539\n",
            " 0.10651862 0.10377438 0.09811703 0.09807481 0.09799037 0.10250781\n",
            " 0.09444398 0.0951617  0.0960483  0.09967914 0.09220637 0.09587942\n",
            " 0.09364181 0.09566833 0.09587942 0.09942582 0.10014354 0.10854513\n",
            " 0.10960061 0.11399139 0.1124715  0.11521574 0.11487799 0.11454023\n",
            " 0.11306257 0.11280925 0.11086718 0.11530018 0.11783332 0.10660306\n",
            " 0.10191674 0.0987081  0.09794816 0.08929325 0.08971544 0.08228489\n",
            " 0.07810521 0.0847336  0.08747784 0.08671789 0.07367221 0.07637423\n",
            " 0.06489065 0.07080132 0.0829604  0.08279152 0.08325593 0.09030651\n",
            " 0.09060204 0.08819556 0.09055982 0.08963101 0.0891666  0.08519801\n",
            " 0.08084945 0.08258043 0.07924512 0.08279152 0.08735118 0.09195305\n",
            " 0.09967914 0.0969349  0.1049143  0.1049143  0.10757409 0.10820738\n",
            " 0.11103606 0.11234485 0.11280925 0.10955839 0.11052943 0.11365364\n",
            " 0.11154268 0.11141603 0.10757409 0.10896732 0.10841848 0.1109094\n",
            " 0.11639787 0.12095753 0.12146416 0.12416617 0.12205522 0.12116862\n",
            " 0.12522165 0.12517943 0.12429283 0.12522165 0.1255594  0.12509499\n",
            " 0.13315883 0.13341214 0.13345436 0.13210335 0.13092122 0.1621633\n",
            " 0.16123448 0.16355653 0.16866503 0.17390019 0.17605336 0.17765769\n",
            " 0.17639112 0.18133074 0.18863464 0.19070337 0.19000676 0.19158997\n",
            " 0.19572743 0.19745841 0.19500971 0.19555856 0.19669847 0.19695179\n",
            " 0.20877311 0.20526894 0.2087309  0.20687326 0.2076332  0.20543781\n",
            " 0.2040868  0.20602888 0.20628219 0.20539559 0.21160179 0.21257283\n",
            " 0.2096175  0.21582369 0.20898421 0.21565482 0.21354387 0.21236173\n",
            " 0.21337499 0.22570295 0.22705396 0.22625179 0.22511188 0.22528076\n",
            " 0.22979819 0.22663177 0.22511188 0.22376087 0.22304315 0.21654142\n",
            " 0.21725914 0.21409271 0.2173858  0.214726   0.21253061 0.21996116\n",
            " 0.21924343 0.22502744 0.22878494 0.22519632 0.22566073 0.22506966\n",
            " 0.23743984 0.24136621 0.23946635 0.23722874 0.24748797 0.26458668\n",
            " 0.26872414 0.26564215 0.26855526 0.27763236 0.2759436  0.27497256\n",
            " 0.25293422 0.26260238 0.26479777 0.26872414 0.26792198 0.2659799\n",
            " 0.26821751 0.26711982 0.26737313 0.2635312  0.2653044  0.27488812\n",
            " 0.26847083 0.27066622 0.27455037 0.27294604 0.24757241 0.23254243\n",
            " 0.23748206 0.23144474 0.22777168 0.21924343 0.23642658 0.23081145\n",
            " 0.23444229 0.23342903 0.23617327 0.23423119 0.22540741 0.23427341\n",
            " 0.22519632 0.22663177 0.22443638 0.2269273  0.22118551 0.22730727\n",
            " 0.23102254 0.23300684 0.23389344 0.2424639  0.24782572 0.25002111\n",
            " 0.2522165  0.25618509 0.25331419 0.25301866 0.26070252 0.26344676\n",
            " 0.26648653 0.25424301 0.2497678  0.24651693 0.25208984 0.28202314\n",
            " 0.27539475 0.27885671 0.28907371 0.29443553 0.298573   0.27433927\n",
            " 0.28345858 0.29346449 0.30085282 0.29810859 0.28506291 0.28354302\n",
            " 0.28231867 0.29316896 0.29401334 0.29101579 0.29350671 0.30030398\n",
            " 0.30638352 0.30824116 0.31098539 0.31119649 0.30287934 0.30216161\n",
            " 0.29941738 0.28831377 0.30043063 0.29772862 0.29262011 0.28683611\n",
            " 0.29359115 0.28848265 0.28873596 0.2775057  0.266191   0.25985814\n",
            " 0.25420079 0.26513552 0.2697374  0.26572659 0.26927299 0.2679642\n",
            " 0.27079287 0.26657097 0.27463481 0.27425483 0.27653466 0.27678798\n",
            " 0.27953221 0.27721017 0.28138985 0.29359115 0.29608207 0.29308452\n",
            " 0.27712573 0.27826564 0.27792789 0.28185426 0.27894115 0.28316305\n",
            " 0.30697458 0.32246897 0.33226378 0.32318669 0.32833741 0.34687157\n",
            " 0.3542599  0.35662417 0.36266149 0.3611416  0.3560331  0.35307777\n",
            " 0.34197416 0.33243266 0.34096091 0.3369501  0.33623237 0.34957359\n",
            " 0.35725745 0.35729967 0.3535844  0.34927805 0.33412142 0.34412733\n",
            " 0.34074981 0.33547243 0.33479693 0.33213713 0.33344592 0.33365701\n",
            " 0.34758929 0.34349405 0.34590053 0.34568944 0.35307777 0.36342143\n",
            " 0.35548425 0.35468209 0.35746855 0.35746855 0.3387233  0.33884995\n",
            " 0.34087647 0.33306595 0.34585831 0.34573166 0.34910918 0.35742633\n",
            " 0.35468209 0.35459765 0.35442878 0.35860846 0.36625011 0.36245039\n",
            " 0.37473613 0.37541164 0.37203411 0.36587013 0.36603901 0.35413324\n",
            " 0.34100312 0.34269189 0.32770413 0.32352444 0.32546652 0.32694419\n",
            " 0.29620873 0.2792789  0.30689015 0.2921557  0.27362155 0.27894115\n",
            " 0.30553914 0.31242084 0.32521321 0.3489403  0.34657604 0.34412733\n",
            " 0.34083425 0.34687157 0.35953728 0.37418728 0.37173858 0.37059867\n",
            " 0.35742633 0.36253483 0.36511019 0.36447691 0.35755298 0.36561682\n",
            " 0.37845141 0.38579752 0.37840919 0.37194967 0.37283627 0.37017648\n",
            " 0.3586929  0.35843958 0.34167863 0.33146162 0.31495398 0.34801148\n",
            " 0.32930845 0.32145571 0.32694419 0.32230009 0.32951955 0.34311408\n",
            " 0.34813814 0.32947733 0.33652791 0.350038   0.34661826 0.35379549\n",
            " 0.35628641 0.36088829 0.37110529 0.36941653 0.34813814 0.31824707\n",
            " 0.31622055 0.30651017 0.30950773 0.31191421 0.30389259 0.31630499\n",
            " 0.3325171  0.36405472 0.36540572 0.39470573 0.40032086 0.40407836\n",
            " 0.40960905 0.42092375 0.41480199 0.41294436 0.4057249  0.41307101\n",
            " 0.40804695 0.40517605 0.41074897 0.40876467 0.41383095 0.41294436\n",
            " 0.41475977 0.41188888 0.41020012 0.40754032 0.42176813 0.42848096\n",
            " 0.43472938 0.43755805 0.43536266 0.42793211 0.42594782 0.43038082\n",
            " 0.42371021 0.4241324  0.41585747 0.41543528 0.40255847 0.40597821\n",
            " 0.40158744 0.39930761 0.38769737 0.39723888 0.39609896 0.40175631\n",
            " 0.40010977 0.40884911 0.3950857  0.40133412 0.41218441 0.42320358\n",
            " 0.42223254 0.41180444 0.42510344 0.42637001 0.42459681 0.42687664\n",
            " 0.42244364 0.42869205 0.42683442 0.42755214 0.43342059 0.44110445\n",
            " 0.43852909 0.42489234 0.42037491 0.42197923 0.46930676 0.49417377\n",
            " 0.49670692 0.50126657 0.49299164 0.49358271 0.50046441 0.49476484\n",
            " 0.50042219 0.50413747 0.5062062  0.51920966 0.53719497 0.52824453\n",
            " 0.52647133 0.52651355 0.52837119 0.53119986 0.53871485 0.5461454\n",
            " 0.55999324 0.56864815 0.57962509 0.58270708 0.57641645 0.56049987\n",
            " 0.55290045 0.54036139 0.5636663  0.55192941 0.57447437 0.56362408\n",
            " 0.53846154 0.53998142 0.54053027 0.54753863 0.53753272 0.55074728\n",
            " 0.55665794 0.54918517 0.56831039 0.5716457  0.57806299 0.58659124\n",
            " 0.59837035 0.58114498 0.56552394 0.56332855 0.57641645 0.53204425\n",
            " 0.52398041 0.55632019 0.53626615 0.55648907 0.55243604 0.5306088\n",
            " 0.54449886 0.55015621 0.55893777 0.52668243 0.54656759 0.53179093\n",
            " 0.51465    0.51912522 0.542599   0.5567846  0.49455374 0.46968673\n",
            " 0.47889048 0.50498185 0.49881787 0.48184582 0.43836021 0.43016972\n",
            " 0.40724479 0.42670776 0.43565819 0.4032762  0.3657857  0.36494132\n",
            " 0.34598497 0.355822   0.35421768 0.38250443 0.37663599 0.37254074\n",
            " 0.39888542 0.36456134 0.35624419 0.32994174 0.33462805 0.3305328\n",
            " 0.3325171  0.34032762 0.31723381 0.31073208 0.31972473 0.29785527\n",
            " 0.28071435 0.25496074 0.23849531 0.28214979 0.27784345 0.2781812\n",
            " 0.28455628 0.28531622 0.21890568 0.24453264 0.24313941 0.25504517\n",
            " 0.26585325 0.26792198 0.26154691 0.25187875 0.26483999 0.27273495\n",
            " 0.2766191  0.28067213 0.26581103 0.26842861 0.26327789 0.28464072\n",
            " 0.27847674 0.27163725 0.31626277 0.32128684 0.32162459 0.34159419\n",
            " 0.35396437 0.35421768 0.3402854  0.33804779 0.33391033 0.34007431\n",
            " 0.33707675 0.33969433 0.33809001 0.34024318 0.34488728 0.34079203\n",
            " 0.34885586]\n"
          ],
          "name": "stdout"
        }
      ]
    },
    {
      "cell_type": "code",
      "metadata": {
        "id": "BKED5fTW5bcf",
        "colab_type": "code",
        "colab": {
          "base_uri": "https://localhost:8080/",
          "height": 109
        },
        "outputId": "0c42a76d-a5c9-45ab-c8f9-e1a6c97c40fa"
      },
      "source": [
        "print(X_train.shape),print(y_train.shape),print(X_test.shape),print(y_test.shape)"
      ],
      "execution_count": 25,
      "outputs": [
        {
          "output_type": "stream",
          "text": [
            "(841, 100)\n",
            "(841,)\n",
            "(214, 100)\n",
            "(214,)\n"
          ],
          "name": "stdout"
        },
        {
          "output_type": "execute_result",
          "data": {
            "text/plain": [
              "(None, None, None, None)"
            ]
          },
          "metadata": {
            "tags": []
          },
          "execution_count": 25
        }
      ]
    },
    {
      "cell_type": "code",
      "metadata": {
        "id": "1BfO6X7a5bcp",
        "colab_type": "code",
        "colab": {
          "base_uri": "https://localhost:8080/",
          "height": 917
        },
        "outputId": "048fe73d-39e5-42f1-b93f-f4e3a41070bd"
      },
      "source": [
        "#reshape input menjadi [sample, time_step, features] yang dibutuhkan untuk LSTM\n",
        "X_train=X_train.reshape(X_train.shape[0],X_train.shape[1],1)\n",
        "X_test=X_test.reshape(X_test.shape[0],X_test.shape[1],1)\n",
        "X_train"
      ],
      "execution_count": 26,
      "outputs": [
        {
          "output_type": "execute_result",
          "data": {
            "text/plain": [
              "array([[[0.16862282],\n",
              "        [0.1696994 ],\n",
              "        [0.16727181],\n",
              "        ...,\n",
              "        [0.09085536],\n",
              "        [0.0873934 ],\n",
              "        [0.09030651]],\n",
              "\n",
              "       [[0.1696994 ],\n",
              "        [0.16727181],\n",
              "        [0.16794731],\n",
              "        ...,\n",
              "        [0.0873934 ],\n",
              "        [0.09030651],\n",
              "        [0.09891919]],\n",
              "\n",
              "       [[0.16727181],\n",
              "        [0.16794731],\n",
              "        [0.16473866],\n",
              "        ...,\n",
              "        [0.09030651],\n",
              "        [0.09891919],\n",
              "        [0.09887697]],\n",
              "\n",
              "       ...,\n",
              "\n",
              "       [[0.55665794],\n",
              "        [0.54918517],\n",
              "        [0.56831039],\n",
              "        ...,\n",
              "        [0.33969433],\n",
              "        [0.33809001],\n",
              "        [0.34024318]],\n",
              "\n",
              "       [[0.54918517],\n",
              "        [0.56831039],\n",
              "        [0.5716457 ],\n",
              "        ...,\n",
              "        [0.33809001],\n",
              "        [0.34024318],\n",
              "        [0.34488728]],\n",
              "\n",
              "       [[0.56831039],\n",
              "        [0.5716457 ],\n",
              "        [0.57806299],\n",
              "        ...,\n",
              "        [0.34024318],\n",
              "        [0.34488728],\n",
              "        [0.34079203]]])"
            ]
          },
          "metadata": {
            "tags": []
          },
          "execution_count": 26
        }
      ]
    },
    {
      "cell_type": "code",
      "metadata": {
        "id": "GZ017wIe5bc3",
        "colab_type": "code",
        "colab": {}
      },
      "source": [
        "# membuat LSTM Model\n",
        "from tensorflow.keras.models import Sequential\n",
        "from tensorflow.keras.layers import Dense, LSTM"
      ],
      "execution_count": 0,
      "outputs": []
    },
    {
      "cell_type": "code",
      "metadata": {
        "id": "JkGDMPnl5bdH",
        "colab_type": "code",
        "colab": {}
      },
      "source": [
        "model=Sequential()\n",
        "model.add(LSTM(50,return_sequences=True,input_shape=(100,1)))\n",
        "model.add(LSTM(50,return_sequences=True))\n",
        "model.add(LSTM(50))\n",
        "model.add(Dense(1))\n",
        "model.compile(loss='mean_squared_error',optimizer='adam')"
      ],
      "execution_count": 0,
      "outputs": []
    },
    {
      "cell_type": "code",
      "metadata": {
        "id": "dD1G6GTn6aSd",
        "colab_type": "code",
        "colab": {
          "base_uri": "https://localhost:8080/",
          "height": 311
        },
        "outputId": "c7602a2c-e810-4202-9b79-fd141584500f"
      },
      "source": [
        "model.summary()"
      ],
      "execution_count": 29,
      "outputs": [
        {
          "output_type": "stream",
          "text": [
            "Model: \"sequential\"\n",
            "_________________________________________________________________\n",
            "Layer (type)                 Output Shape              Param #   \n",
            "=================================================================\n",
            "lstm (LSTM)                  (None, 100, 50)           10400     \n",
            "_________________________________________________________________\n",
            "lstm_1 (LSTM)                (None, 100, 50)           20200     \n",
            "_________________________________________________________________\n",
            "lstm_2 (LSTM)                (None, 50)                20200     \n",
            "_________________________________________________________________\n",
            "dense (Dense)                (None, 1)                 51        \n",
            "=================================================================\n",
            "Total params: 50,851\n",
            "Trainable params: 50,851\n",
            "Non-trainable params: 0\n",
            "_________________________________________________________________\n"
          ],
          "name": "stdout"
        }
      ]
    },
    {
      "cell_type": "code",
      "metadata": {
        "id": "QgHN8ij56cbb",
        "colab_type": "code",
        "colab": {
          "base_uri": "https://localhost:8080/",
          "height": 1000
        },
        "outputId": "7ed0950e-d9ab-4512-860d-a8295fbcb46f"
      },
      "source": [
        "model.fit(X_train, y_train, validation_data=(X_test,y_test),epochs=100,batch_size=64,verbose=1)"
      ],
      "execution_count": 30,
      "outputs": [
        {
          "output_type": "stream",
          "text": [
            "Epoch 1/100\n",
            "14/14 [==============================] - 3s 232ms/step - loss: 0.0191 - val_loss: 0.1052\n",
            "Epoch 2/100\n",
            "14/14 [==============================] - 2s 175ms/step - loss: 0.0044 - val_loss: 0.0146\n",
            "Epoch 3/100\n",
            "14/14 [==============================] - 2s 178ms/step - loss: 0.0016 - val_loss: 0.0057\n",
            "Epoch 4/100\n",
            "14/14 [==============================] - 2s 176ms/step - loss: 0.0016 - val_loss: 0.0060\n",
            "Epoch 5/100\n",
            "14/14 [==============================] - 3s 190ms/step - loss: 0.0011 - val_loss: 0.0048\n",
            "Epoch 6/100\n",
            "14/14 [==============================] - 3s 188ms/step - loss: 9.2628e-04 - val_loss: 0.0049\n",
            "Epoch 7/100\n",
            "14/14 [==============================] - 2s 176ms/step - loss: 9.3555e-04 - val_loss: 0.0057\n",
            "Epoch 8/100\n",
            "14/14 [==============================] - 2s 177ms/step - loss: 8.4744e-04 - val_loss: 0.0065\n",
            "Epoch 9/100\n",
            "14/14 [==============================] - 2s 177ms/step - loss: 8.0554e-04 - val_loss: 0.0065\n",
            "Epoch 10/100\n",
            "14/14 [==============================] - 2s 177ms/step - loss: 7.5287e-04 - val_loss: 0.0092\n",
            "Epoch 11/100\n",
            "14/14 [==============================] - 2s 176ms/step - loss: 7.8151e-04 - val_loss: 0.0078\n",
            "Epoch 12/100\n",
            "14/14 [==============================] - 2s 176ms/step - loss: 7.0475e-04 - val_loss: 0.0063\n",
            "Epoch 13/100\n",
            "14/14 [==============================] - 2s 176ms/step - loss: 6.6115e-04 - val_loss: 0.0058\n",
            "Epoch 14/100\n",
            "14/14 [==============================] - 2s 176ms/step - loss: 6.2926e-04 - val_loss: 0.0072\n",
            "Epoch 15/100\n",
            "14/14 [==============================] - 2s 176ms/step - loss: 6.0672e-04 - val_loss: 0.0033\n",
            "Epoch 16/100\n",
            "14/14 [==============================] - 2s 178ms/step - loss: 7.1223e-04 - val_loss: 0.0160\n",
            "Epoch 17/100\n",
            "14/14 [==============================] - 2s 177ms/step - loss: 7.2574e-04 - val_loss: 0.0027\n",
            "Epoch 18/100\n",
            "14/14 [==============================] - 2s 177ms/step - loss: 7.3188e-04 - val_loss: 0.0090\n",
            "Epoch 19/100\n",
            "14/14 [==============================] - 2s 176ms/step - loss: 5.6374e-04 - val_loss: 0.0058\n",
            "Epoch 20/100\n",
            "14/14 [==============================] - 2s 178ms/step - loss: 5.4224e-04 - val_loss: 0.0041\n",
            "Epoch 21/100\n",
            "14/14 [==============================] - 2s 176ms/step - loss: 5.6166e-04 - val_loss: 0.0072\n",
            "Epoch 22/100\n",
            "14/14 [==============================] - 2s 177ms/step - loss: 5.1380e-04 - val_loss: 0.0041\n",
            "Epoch 23/100\n",
            "14/14 [==============================] - 2s 177ms/step - loss: 4.9505e-04 - val_loss: 0.0036\n",
            "Epoch 24/100\n",
            "14/14 [==============================] - 2s 178ms/step - loss: 5.0228e-04 - val_loss: 0.0035\n",
            "Epoch 25/100\n",
            "14/14 [==============================] - 2s 176ms/step - loss: 5.3118e-04 - val_loss: 0.0044\n",
            "Epoch 26/100\n",
            "14/14 [==============================] - 2s 177ms/step - loss: 4.9651e-04 - val_loss: 0.0041\n",
            "Epoch 27/100\n",
            "14/14 [==============================] - 2s 178ms/step - loss: 4.9963e-04 - val_loss: 0.0032\n",
            "Epoch 28/100\n",
            "14/14 [==============================] - 2s 177ms/step - loss: 4.8698e-04 - val_loss: 0.0035\n",
            "Epoch 29/100\n",
            "14/14 [==============================] - 2s 176ms/step - loss: 4.9647e-04 - val_loss: 0.0046\n",
            "Epoch 30/100\n",
            "14/14 [==============================] - 2s 177ms/step - loss: 4.7226e-04 - val_loss: 0.0029\n",
            "Epoch 31/100\n",
            "14/14 [==============================] - 3s 179ms/step - loss: 4.6737e-04 - val_loss: 0.0065\n",
            "Epoch 32/100\n",
            "14/14 [==============================] - 2s 178ms/step - loss: 5.2236e-04 - val_loss: 0.0023\n",
            "Epoch 33/100\n",
            "14/14 [==============================] - 2s 177ms/step - loss: 4.7276e-04 - val_loss: 0.0049\n",
            "Epoch 34/100\n",
            "14/14 [==============================] - 2s 176ms/step - loss: 4.6354e-04 - val_loss: 0.0034\n",
            "Epoch 35/100\n",
            "14/14 [==============================] - 3s 179ms/step - loss: 4.4258e-04 - val_loss: 0.0028\n",
            "Epoch 36/100\n",
            "14/14 [==============================] - 2s 177ms/step - loss: 4.8958e-04 - val_loss: 0.0064\n",
            "Epoch 37/100\n",
            "14/14 [==============================] - 2s 177ms/step - loss: 4.5259e-04 - val_loss: 0.0030\n",
            "Epoch 38/100\n",
            "14/14 [==============================] - 3s 186ms/step - loss: 4.6560e-04 - val_loss: 0.0026\n",
            "Epoch 39/100\n",
            "14/14 [==============================] - 3s 189ms/step - loss: 4.3506e-04 - val_loss: 0.0026\n",
            "Epoch 40/100\n",
            "14/14 [==============================] - 3s 189ms/step - loss: 4.4187e-04 - val_loss: 0.0034\n",
            "Epoch 41/100\n",
            "14/14 [==============================] - 3s 188ms/step - loss: 4.6657e-04 - val_loss: 0.0023\n",
            "Epoch 42/100\n",
            "14/14 [==============================] - 2s 179ms/step - loss: 4.6966e-04 - val_loss: 0.0052\n",
            "Epoch 43/100\n",
            "14/14 [==============================] - 2s 178ms/step - loss: 4.7304e-04 - val_loss: 0.0051\n",
            "Epoch 44/100\n",
            "14/14 [==============================] - 2s 178ms/step - loss: 4.9856e-04 - val_loss: 0.0026\n",
            "Epoch 45/100\n",
            "14/14 [==============================] - 2s 176ms/step - loss: 4.6857e-04 - val_loss: 0.0084\n",
            "Epoch 46/100\n",
            "14/14 [==============================] - 2s 178ms/step - loss: 4.6164e-04 - val_loss: 0.0025\n",
            "Epoch 47/100\n",
            "14/14 [==============================] - 3s 180ms/step - loss: 4.5193e-04 - val_loss: 0.0045\n",
            "Epoch 48/100\n",
            "14/14 [==============================] - 2s 178ms/step - loss: 4.3682e-04 - val_loss: 0.0024\n",
            "Epoch 49/100\n",
            "14/14 [==============================] - 2s 177ms/step - loss: 3.9542e-04 - val_loss: 0.0032\n",
            "Epoch 50/100\n",
            "14/14 [==============================] - 3s 179ms/step - loss: 3.8835e-04 - val_loss: 0.0028\n",
            "Epoch 51/100\n",
            "14/14 [==============================] - 3s 179ms/step - loss: 3.8484e-04 - val_loss: 0.0023\n",
            "Epoch 52/100\n",
            "14/14 [==============================] - 2s 178ms/step - loss: 3.7219e-04 - val_loss: 0.0033\n",
            "Epoch 53/100\n",
            "14/14 [==============================] - 2s 177ms/step - loss: 3.8493e-04 - val_loss: 0.0036\n",
            "Epoch 54/100\n",
            "14/14 [==============================] - 2s 177ms/step - loss: 3.8967e-04 - val_loss: 0.0020\n",
            "Epoch 55/100\n",
            "14/14 [==============================] - 2s 177ms/step - loss: 4.2602e-04 - val_loss: 0.0039\n",
            "Epoch 56/100\n",
            "14/14 [==============================] - 2s 177ms/step - loss: 3.7687e-04 - val_loss: 0.0041\n",
            "Epoch 57/100\n",
            "14/14 [==============================] - 3s 179ms/step - loss: 4.4406e-04 - val_loss: 0.0020\n",
            "Epoch 58/100\n",
            "14/14 [==============================] - 3s 179ms/step - loss: 3.5912e-04 - val_loss: 0.0027\n",
            "Epoch 59/100\n",
            "14/14 [==============================] - 2s 176ms/step - loss: 3.5585e-04 - val_loss: 0.0021\n",
            "Epoch 60/100\n",
            "14/14 [==============================] - 2s 178ms/step - loss: 3.6548e-04 - val_loss: 0.0019\n",
            "Epoch 61/100\n",
            "14/14 [==============================] - 3s 179ms/step - loss: 3.5651e-04 - val_loss: 0.0026\n",
            "Epoch 62/100\n",
            "14/14 [==============================] - 2s 178ms/step - loss: 3.4226e-04 - val_loss: 0.0023\n",
            "Epoch 63/100\n",
            "14/14 [==============================] - 2s 178ms/step - loss: 3.3052e-04 - val_loss: 0.0019\n",
            "Epoch 64/100\n",
            "14/14 [==============================] - 2s 178ms/step - loss: 3.4255e-04 - val_loss: 0.0029\n",
            "Epoch 65/100\n",
            "14/14 [==============================] - 2s 176ms/step - loss: 3.4674e-04 - val_loss: 0.0032\n",
            "Epoch 66/100\n",
            "14/14 [==============================] - 3s 180ms/step - loss: 3.3779e-04 - val_loss: 0.0028\n",
            "Epoch 67/100\n",
            "14/14 [==============================] - 2s 177ms/step - loss: 3.2975e-04 - val_loss: 0.0036\n",
            "Epoch 68/100\n",
            "14/14 [==============================] - 2s 177ms/step - loss: 3.6921e-04 - val_loss: 0.0017\n",
            "Epoch 69/100\n",
            "14/14 [==============================] - 2s 177ms/step - loss: 3.1516e-04 - val_loss: 0.0016\n",
            "Epoch 70/100\n",
            "14/14 [==============================] - 2s 178ms/step - loss: 3.3418e-04 - val_loss: 0.0028\n",
            "Epoch 71/100\n",
            "14/14 [==============================] - 2s 176ms/step - loss: 3.0292e-04 - val_loss: 0.0017\n",
            "Epoch 72/100\n",
            "14/14 [==============================] - 2s 177ms/step - loss: 3.3392e-04 - val_loss: 0.0022\n",
            "Epoch 73/100\n",
            "14/14 [==============================] - 2s 175ms/step - loss: 3.2164e-04 - val_loss: 0.0019\n",
            "Epoch 74/100\n",
            "14/14 [==============================] - 2s 177ms/step - loss: 3.0226e-04 - val_loss: 0.0015\n",
            "Epoch 75/100\n",
            "14/14 [==============================] - 2s 178ms/step - loss: 2.9008e-04 - val_loss: 0.0015\n",
            "Epoch 76/100\n",
            "14/14 [==============================] - 2s 176ms/step - loss: 2.9999e-04 - val_loss: 0.0018\n",
            "Epoch 77/100\n",
            "14/14 [==============================] - 2s 176ms/step - loss: 2.8067e-04 - val_loss: 0.0023\n",
            "Epoch 78/100\n",
            "14/14 [==============================] - 2s 177ms/step - loss: 3.0550e-04 - val_loss: 0.0015\n",
            "Epoch 79/100\n",
            "14/14 [==============================] - 2s 176ms/step - loss: 2.9650e-04 - val_loss: 0.0014\n",
            "Epoch 80/100\n",
            "14/14 [==============================] - 2s 176ms/step - loss: 3.3380e-04 - val_loss: 0.0039\n",
            "Epoch 81/100\n",
            "14/14 [==============================] - 2s 176ms/step - loss: 2.9758e-04 - val_loss: 0.0042\n",
            "Epoch 82/100\n",
            "14/14 [==============================] - 2s 178ms/step - loss: 2.8787e-04 - val_loss: 0.0029\n",
            "Epoch 83/100\n",
            "14/14 [==============================] - 2s 175ms/step - loss: 2.7203e-04 - val_loss: 0.0014\n",
            "Epoch 84/100\n",
            "14/14 [==============================] - 2s 177ms/step - loss: 2.7154e-04 - val_loss: 0.0014\n",
            "Epoch 85/100\n",
            "14/14 [==============================] - 2s 176ms/step - loss: 2.5982e-04 - val_loss: 0.0019\n",
            "Epoch 86/100\n",
            "14/14 [==============================] - 3s 179ms/step - loss: 2.5183e-04 - val_loss: 0.0025\n",
            "Epoch 87/100\n",
            "14/14 [==============================] - 2s 178ms/step - loss: 2.9358e-04 - val_loss: 0.0018\n",
            "Epoch 88/100\n",
            "14/14 [==============================] - 2s 177ms/step - loss: 3.1382e-04 - val_loss: 0.0013\n",
            "Epoch 89/100\n",
            "14/14 [==============================] - 2s 178ms/step - loss: 2.6191e-04 - val_loss: 0.0025\n",
            "Epoch 90/100\n",
            "14/14 [==============================] - 2s 177ms/step - loss: 2.6787e-04 - val_loss: 0.0030\n",
            "Epoch 91/100\n",
            "14/14 [==============================] - 2s 178ms/step - loss: 2.5514e-04 - val_loss: 0.0013\n",
            "Epoch 92/100\n",
            "14/14 [==============================] - 2s 178ms/step - loss: 2.5959e-04 - val_loss: 0.0021\n",
            "Epoch 93/100\n",
            "14/14 [==============================] - 2s 177ms/step - loss: 2.5542e-04 - val_loss: 0.0014\n",
            "Epoch 94/100\n",
            "14/14 [==============================] - 2s 177ms/step - loss: 2.5096e-04 - val_loss: 0.0022\n",
            "Epoch 95/100\n",
            "14/14 [==============================] - 2s 178ms/step - loss: 2.6989e-04 - val_loss: 0.0012\n",
            "Epoch 96/100\n",
            "14/14 [==============================] - 2s 176ms/step - loss: 2.4418e-04 - val_loss: 0.0012\n",
            "Epoch 97/100\n",
            "14/14 [==============================] - 2s 178ms/step - loss: 2.4331e-04 - val_loss: 0.0012\n",
            "Epoch 98/100\n",
            "14/14 [==============================] - 2s 177ms/step - loss: 2.4986e-04 - val_loss: 0.0026\n",
            "Epoch 99/100\n",
            "14/14 [==============================] - 2s 176ms/step - loss: 2.6052e-04 - val_loss: 0.0020\n",
            "Epoch 100/100\n",
            "14/14 [==============================] - 2s 178ms/step - loss: 2.3860e-04 - val_loss: 0.0014\n"
          ],
          "name": "stdout"
        },
        {
          "output_type": "execute_result",
          "data": {
            "text/plain": [
              "<tensorflow.python.keras.callbacks.History at 0x7f21f59e20b8>"
            ]
          },
          "metadata": {
            "tags": []
          },
          "execution_count": 30
        }
      ]
    },
    {
      "cell_type": "code",
      "metadata": {
        "id": "xUPtHvBU6sVz",
        "colab_type": "code",
        "colab": {}
      },
      "source": [
        "import tensorflow as tf"
      ],
      "execution_count": 0,
      "outputs": []
    },
    {
      "cell_type": "code",
      "metadata": {
        "id": "OYW0xN1q6yia",
        "colab_type": "code",
        "colab": {}
      },
      "source": [
        "train_predict=model.predict(X_train)\n",
        "test_predict=model.predict(X_test)"
      ],
      "execution_count": 0,
      "outputs": []
    },
    {
      "cell_type": "code",
      "metadata": {
        "id": "o0WvSZVJ7MtT",
        "colab_type": "code",
        "colab": {}
      },
      "source": [
        "train_predict=scaler.inverse_transform(train_predict)\n",
        "test_predict=scaler.inverse_transform(test_predict)"
      ],
      "execution_count": 0,
      "outputs": []
    },
    {
      "cell_type": "code",
      "metadata": {
        "id": "lrf1sUyI7b6s",
        "colab_type": "code",
        "colab": {
          "base_uri": "https://localhost:8080/",
          "height": 35
        },
        "outputId": "29800e2a-232a-44ab-92f6-fa998adfebfc"
      },
      "source": [
        "import math\n",
        "from sklearn.metrics import mean_squared_error\n",
        "math.sqrt(mean_squared_error(y_train,train_predict))"
      ],
      "execution_count": 35,
      "outputs": [
        {
          "output_type": "execute_result",
          "data": {
            "text/plain": [
              "151.63109138538013"
            ]
          },
          "metadata": {
            "tags": []
          },
          "execution_count": 35
        }
      ]
    },
    {
      "cell_type": "code",
      "metadata": {
        "id": "Zo7u1XkH7rKZ",
        "colab_type": "code",
        "colab": {
          "base_uri": "https://localhost:8080/",
          "height": 35
        },
        "outputId": "d1d832e6-e44d-4202-9024-ddf9b1476f98"
      },
      "source": [
        "#Test data RMSE\n",
        "math.sqrt(mean_squared_error(y_test,test_predict))"
      ],
      "execution_count": 36,
      "outputs": [
        {
          "output_type": "execute_result",
          "data": {
            "text/plain": [
              "260.39216702983236"
            ]
          },
          "metadata": {
            "tags": []
          },
          "execution_count": 36
        }
      ]
    },
    {
      "cell_type": "code",
      "metadata": {
        "id": "gK5xLU9B78ax",
        "colab_type": "code",
        "colab": {
          "base_uri": "https://localhost:8080/",
          "height": 265
        },
        "outputId": "1a7fb9a8-70c1-4ff2-8c79-a1c9ac648a76"
      },
      "source": [
        "# Plotting \n",
        "\n",
        "#train prediction\n",
        "look_back=100\n",
        "trainplot=numpy.empty_like(data2)\n",
        "trainplot[:,:]=np.nan\n",
        "trainplot[look_back:len(train_predict)+look_back,:] =train_predict\n",
        "#test prediction\n",
        "testplot=numpy.empty_like(data2)\n",
        "testplot[:,:]=np.nan\n",
        "testplot[len(train_predict)+(look_back*2)+1:len(data2)-1,:] =test_predict\n",
        "\n",
        "#Plot baseline\n",
        "plt.plot(scaler.inverse_transform(data2))\n",
        "plt.plot(trainplot)\n",
        "plt.plot(testplot)\n",
        "plt.show()"
      ],
      "execution_count": 38,
      "outputs": [
        {
          "output_type": "display_data",
          "data": {
            "image/png": "[encoded data removed]",
            "text/plain": [
              "<Figure size 432x288 with 1 Axes>"
            ]
          },
          "metadata": {
            "tags": [],
            "needs_background": "light"
          }
        }
      ]
    },
    {
      "cell_type": "code",
      "metadata": {
        "id": "EjxQwcxr9Ft_",
        "colab_type": "code",
        "colab": {
          "base_uri": "https://localhost:8080/",
          "height": 35
        },
        "outputId": "a1cce324-3190-4b89-92f3-d7f80568f4fc"
      },
      "source": [
        "len(test)"
      ],
      "execution_count": 39,
      "outputs": [
        {
          "output_type": "execute_result",
          "data": {
            "text/plain": [
              "315"
            ]
          },
          "metadata": {
            "tags": []
          },
          "execution_count": 39
        }
      ]
    },
    {
      "cell_type": "code",
      "metadata": {
        "id": "Zqqv6Qdx9XuG",
        "colab_type": "code",
        "colab": {
          "base_uri": "https://localhost:8080/",
          "height": 35
        },
        "outputId": "74d4ff13-973d-4fc5-ff4d-f723a9925213"
      },
      "source": [
        "x_input=test[215:].reshape(1,-1)\n",
        "x_input.shape"
      ],
      "execution_count": 40,
      "outputs": [
        {
          "output_type": "execute_result",
          "data": {
            "text/plain": [
              "(1, 100)"
            ]
          },
          "metadata": {
            "tags": []
          },
          "execution_count": 40
        }
      ]
    },
    {
      "cell_type": "code",
      "metadata": {
        "id": "1jJjkRBS9itE",
        "colab_type": "code",
        "colab": {}
      },
      "source": [
        "temp_input=list(x_input)\n",
        "temp_input=temp_input[0].tolist()"
      ],
      "execution_count": 0,
      "outputs": []
    },
    {
      "cell_type": "code",
      "metadata": {
        "id": "sQfWKXKI9uJU",
        "colab_type": "code",
        "colab": {
          "base_uri": "https://localhost:8080/",
          "height": 1000
        },
        "outputId": "a62bc0f2-ecb2-45c6-e9ef-36a46456a5c4"
      },
      "source": [
        "temp_input"
      ],
      "execution_count": 42,
      "outputs": [
        {
          "output_type": "execute_result",
          "data": {
            "text/plain": [
              "[0.8866418981676942,\n",
              " 0.8743139407244789,\n",
              " 0.8843198513890065,\n",
              " 0.8783669678290975,\n",
              " 0.8986321033521913,\n",
              " 0.925821160179009,\n",
              " 0.9287764924427933,\n",
              " 0.9567677108840666,\n",
              " 0.9386979650426415,\n",
              " 0.933040614709111,\n",
              " 0.9495060373216249,\n",
              " 0.9642404796082076,\n",
              " 0.9551211686228154,\n",
              " 0.9598919192772104,\n",
              " 0.9663514312251966,\n",
              " 0.9624672802499368,\n",
              " 0.9229502659799038,\n",
              " 0.9598497002448705,\n",
              " 0.9879253567508233,\n",
              " 0.985941062230854,\n",
              " 0.9253145317909315,\n",
              " 0.9217259140420504,\n",
              " 0.964747107996285,\n",
              " 0.9757240564046274,\n",
              " 0.9915984125643842,\n",
              " 0.9697289538123788,\n",
              " 0.9761462467280253,\n",
              " 0.9679557544541082,\n",
              " 1.0000000000000002,\n",
              " 0.9901629654648318,\n",
              " 0.9905007177235499,\n",
              " 0.9653803934813816,\n",
              " 0.9848855864223593,\n",
              " 0.9708688676855528,\n",
              " 0.9402600692392133,\n",
              " 0.8774803681499621,\n",
              " 0.8348391454867856,\n",
              " 0.8541332432660644,\n",
              " 0.7733682344000676,\n",
              " 0.7726927298826314,\n",
              " 0.8801401671873683,\n",
              " 0.8400743054969182,\n",
              " 0.8967322468969012,\n",
              " 0.8552731571392387,\n",
              " 0.8388499535590646,\n",
              " 0.7423372456303303,\n",
              " 0.8232711306256861,\n",
              " 0.7814320695769654,\n",
              " 0.6665963016127672,\n",
              " 0.7921557037912694,\n",
              " 0.6411804441442204,\n",
              " 0.6861437135860848,\n",
              " 0.6600101325677616,\n",
              " 0.6520307354555435,\n",
              " 0.5864223591995272,\n",
              " 0.5658616904500551,\n",
              " 0.660896732246897,\n",
              " 0.6551549438486872,\n",
              " 0.7097019336316812,\n",
              " 0.664527569028118,\n",
              " 0.6943764248923416,\n",
              " 0.692181035210673,\n",
              " 0.6356919699400492,\n",
              " 0.6526640209406402,\n",
              " 0.637802921557038,\n",
              " 0.7267162036646122,\n",
              " 0.7138816178333194,\n",
              " 0.7419150553069325,\n",
              " 0.7500211095161702,\n",
              " 0.7722283205268936,\n",
              " 0.8304905851557884,\n",
              " 0.8194291986827664,\n",
              " 0.8289706999915563,\n",
              " 0.8125474964113824,\n",
              " 0.7877649244279323,\n",
              " 0.7516254327450818,\n",
              " 0.7842607447437306,\n",
              " 0.7797433082833742,\n",
              " 0.8132652199611587,\n",
              " 0.8141096006079542,\n",
              " 0.7947310647639958,\n",
              " 0.8333614793548934,\n",
              " 0.8589884319851391,\n",
              " 0.8390188296884238,\n",
              " 0.8562864139153934,\n",
              " 0.8748627881448958,\n",
              " 0.887824031073208,\n",
              " 0.9009541501308793,\n",
              " 0.9279321117959978,\n",
              " 0.9485349995778098,\n",
              " 0.9333361479354896,\n",
              " 0.9174617917757326,\n",
              " 0.925441188887951,\n",
              " 0.9177151059697712,\n",
              " 0.9483239044161109,\n",
              " 0.9406400405302711,\n",
              " 0.9663514312251966,\n",
              " 0.9563033015283293,\n",
              " 0.964915984125644,\n",
              " 0.9557966731402519]"
            ]
          },
          "metadata": {
            "tags": []
          },
          "execution_count": 42
        }
      ]
    },
    {
      "cell_type": "code",
      "metadata": {
        "id": "ZDK9ZXjk9zi2",
        "colab_type": "code",
        "colab": {
          "base_uri": "https://localhost:8080/",
          "height": 1000
        },
        "outputId": "5748a700-f15e-4f44-a274-b4ac4df60af9"
      },
      "source": [
        "# demonstrate prediction for next 10 days\n",
        "from numpy import array\n",
        "\n",
        "lst_output=[]\n",
        "n_steps=100\n",
        "i=0\n",
        "while(i<30):\n",
        "    \n",
        "    if(len(temp_input)>100):\n",
        "        #print(temp_input)\n",
        "        x_input=np.array(temp_input[1:])\n",
        "        print(\"{} day input {}\".format(i,x_input))\n",
        "        x_input=x_input.reshape(1,-1)\n",
        "        x_input = x_input.reshape((1, n_steps, 1))\n",
        "        #print(x_input)\n",
        "        yhat = model.predict(x_input, verbose=0)\n",
        "        print(\"{} day output {}\".format(i,yhat))\n",
        "        temp_input.extend(yhat[0].tolist())\n",
        "        temp_input=temp_input[1:]\n",
        "        #print(temp_input)\n",
        "        lst_output.extend(yhat.tolist())\n",
        "        i=i+1\n",
        "    else:\n",
        "        x_input = x_input.reshape((1, n_steps,1))\n",
        "        yhat = model.predict(x_input, verbose=0)\n",
        "        print(yhat[0])\n",
        "        temp_input.extend(yhat[0].tolist())\n",
        "        print(len(temp_input))\n",
        "        lst_output.extend(yhat.tolist())\n",
        "        i=i+1\n",
        "    \n",
        "\n",
        "print(lst_output)"
      ],
      "execution_count": 43,
      "outputs": [
        {
          "output_type": "stream",
          "text": [
            "[0.9488866]\n",
            "101\n",
            "1 day input [0.87431394 0.88431985 0.87836697 0.8986321  0.92582116 0.92877649\n",
            " 0.95676771 0.93869797 0.93304061 0.94950604 0.96424048 0.95512117\n",
            " 0.95989192 0.96635143 0.96246728 0.92295027 0.9598497  0.98792536\n",
            " 0.98594106 0.92531453 0.92172591 0.96474711 0.97572406 0.99159841\n",
            " 0.96972895 0.97614625 0.96795575 1.         0.99016297 0.99050072\n",
            " 0.96538039 0.98488559 0.97086887 0.94026007 0.87748037 0.83483915\n",
            " 0.85413324 0.77336823 0.77269273 0.88014017 0.84007431 0.89673225\n",
            " 0.85527316 0.83884995 0.74233725 0.82327113 0.78143207 0.6665963\n",
            " 0.7921557  0.64118044 0.68614371 0.66001013 0.65203074 0.58642236\n",
            " 0.56586169 0.66089673 0.65515494 0.70970193 0.66452757 0.69437642\n",
            " 0.69218104 0.63569197 0.65266402 0.63780292 0.7267162  0.71388162\n",
            " 0.74191506 0.75002111 0.77222832 0.83049059 0.8194292  0.8289707\n",
            " 0.8125475  0.78776492 0.75162543 0.78426074 0.77974331 0.81326522\n",
            " 0.8141096  0.79473106 0.83336148 0.85898843 0.83901883 0.85628641\n",
            " 0.87486279 0.88782403 0.90095415 0.92793211 0.948535   0.93333615\n",
            " 0.91746179 0.92544119 0.91771511 0.9483239  0.94064004 0.96635143\n",
            " 0.9563033  0.96491598 0.95579667 0.94888657]\n",
            "1 day output [[0.9429424]]\n",
            "2 day input [0.88431985 0.87836697 0.8986321  0.92582116 0.92877649 0.95676771\n",
            " 0.93869797 0.93304061 0.94950604 0.96424048 0.95512117 0.95989192\n",
            " 0.96635143 0.96246728 0.92295027 0.9598497  0.98792536 0.98594106\n",
            " 0.92531453 0.92172591 0.96474711 0.97572406 0.99159841 0.96972895\n",
            " 0.97614625 0.96795575 1.         0.99016297 0.99050072 0.96538039\n",
            " 0.98488559 0.97086887 0.94026007 0.87748037 0.83483915 0.85413324\n",
            " 0.77336823 0.77269273 0.88014017 0.84007431 0.89673225 0.85527316\n",
            " 0.83884995 0.74233725 0.82327113 0.78143207 0.6665963  0.7921557\n",
            " 0.64118044 0.68614371 0.66001013 0.65203074 0.58642236 0.56586169\n",
            " 0.66089673 0.65515494 0.70970193 0.66452757 0.69437642 0.69218104\n",
            " 0.63569197 0.65266402 0.63780292 0.7267162  0.71388162 0.74191506\n",
            " 0.75002111 0.77222832 0.83049059 0.8194292  0.8289707  0.8125475\n",
            " 0.78776492 0.75162543 0.78426074 0.77974331 0.81326522 0.8141096\n",
            " 0.79473106 0.83336148 0.85898843 0.83901883 0.85628641 0.87486279\n",
            " 0.88782403 0.90095415 0.92793211 0.948535   0.93333615 0.91746179\n",
            " 0.92544119 0.91771511 0.9483239  0.94064004 0.96635143 0.9563033\n",
            " 0.96491598 0.95579667 0.94888657 0.94294238]\n",
            "2 day output [[0.9335638]]\n",
            "3 day input [0.87836697 0.8986321  0.92582116 0.92877649 0.95676771 0.93869797\n",
            " 0.93304061 0.94950604 0.96424048 0.95512117 0.95989192 0.96635143\n",
            " 0.96246728 0.92295027 0.9598497  0.98792536 0.98594106 0.92531453\n",
            " 0.92172591 0.96474711 0.97572406 0.99159841 0.96972895 0.97614625\n",
            " 0.96795575 1.         0.99016297 0.99050072 0.96538039 0.98488559\n",
            " 0.97086887 0.94026007 0.87748037 0.83483915 0.85413324 0.77336823\n",
            " 0.77269273 0.88014017 0.84007431 0.89673225 0.85527316 0.83884995\n",
            " 0.74233725 0.82327113 0.78143207 0.6665963  0.7921557  0.64118044\n",
            " 0.68614371 0.66001013 0.65203074 0.58642236 0.56586169 0.66089673\n",
            " 0.65515494 0.70970193 0.66452757 0.69437642 0.69218104 0.63569197\n",
            " 0.65266402 0.63780292 0.7267162  0.71388162 0.74191506 0.75002111\n",
            " 0.77222832 0.83049059 0.8194292  0.8289707  0.8125475  0.78776492\n",
            " 0.75162543 0.78426074 0.77974331 0.81326522 0.8141096  0.79473106\n",
            " 0.83336148 0.85898843 0.83901883 0.85628641 0.87486279 0.88782403\n",
            " 0.90095415 0.92793211 0.948535   0.93333615 0.91746179 0.92544119\n",
            " 0.91771511 0.9483239  0.94064004 0.96635143 0.9563033  0.96491598\n",
            " 0.95579667 0.94888657 0.94294238 0.93356383]\n",
            "3 day output [[0.9234844]]\n",
            "4 day input [0.8986321  0.92582116 0.92877649 0.95676771 0.93869797 0.93304061\n",
            " 0.94950604 0.96424048 0.95512117 0.95989192 0.96635143 0.96246728\n",
            " 0.92295027 0.9598497  0.98792536 0.98594106 0.92531453 0.92172591\n",
            " 0.96474711 0.97572406 0.99159841 0.96972895 0.97614625 0.96795575\n",
            " 1.         0.99016297 0.99050072 0.96538039 0.98488559 0.97086887\n",
            " 0.94026007 0.87748037 0.83483915 0.85413324 0.77336823 0.77269273\n",
            " 0.88014017 0.84007431 0.89673225 0.85527316 0.83884995 0.74233725\n",
            " 0.82327113 0.78143207 0.6665963  0.7921557  0.64118044 0.68614371\n",
            " 0.66001013 0.65203074 0.58642236 0.56586169 0.66089673 0.65515494\n",
            " 0.70970193 0.66452757 0.69437642 0.69218104 0.63569197 0.65266402\n",
            " 0.63780292 0.7267162  0.71388162 0.74191506 0.75002111 0.77222832\n",
            " 0.83049059 0.8194292  0.8289707  0.8125475  0.78776492 0.75162543\n",
            " 0.78426074 0.77974331 0.81326522 0.8141096  0.79473106 0.83336148\n",
            " 0.85898843 0.83901883 0.85628641 0.87486279 0.88782403 0.90095415\n",
            " 0.92793211 0.948535   0.93333615 0.91746179 0.92544119 0.91771511\n",
            " 0.9483239  0.94064004 0.96635143 0.9563033  0.96491598 0.95579667\n",
            " 0.94888657 0.94294238 0.93356383 0.92348439]\n",
            "4 day output [[0.9141693]]\n",
            "5 day input [0.92582116 0.92877649 0.95676771 0.93869797 0.93304061 0.94950604\n",
            " 0.96424048 0.95512117 0.95989192 0.96635143 0.96246728 0.92295027\n",
            " 0.9598497  0.98792536 0.98594106 0.92531453 0.92172591 0.96474711\n",
            " 0.97572406 0.99159841 0.96972895 0.97614625 0.96795575 1.\n",
            " 0.99016297 0.99050072 0.96538039 0.98488559 0.97086887 0.94026007\n",
            " 0.87748037 0.83483915 0.85413324 0.77336823 0.77269273 0.88014017\n",
            " 0.84007431 0.89673225 0.85527316 0.83884995 0.74233725 0.82327113\n",
            " 0.78143207 0.6665963  0.7921557  0.64118044 0.68614371 0.66001013\n",
            " 0.65203074 0.58642236 0.56586169 0.66089673 0.65515494 0.70970193\n",
            " 0.66452757 0.69437642 0.69218104 0.63569197 0.65266402 0.63780292\n",
            " 0.7267162  0.71388162 0.74191506 0.75002111 0.77222832 0.83049059\n",
            " 0.8194292  0.8289707  0.8125475  0.78776492 0.75162543 0.78426074\n",
            " 0.77974331 0.81326522 0.8141096  0.79473106 0.83336148 0.85898843\n",
            " 0.83901883 0.85628641 0.87486279 0.88782403 0.90095415 0.92793211\n",
            " 0.948535   0.93333615 0.91746179 0.92544119 0.91771511 0.9483239\n",
            " 0.94064004 0.96635143 0.9563033  0.96491598 0.95579667 0.94888657\n",
            " 0.94294238 0.93356383 0.92348439 0.91416931]\n",
            "5 day output [[0.90610415]]\n",
            "6 day input [0.92877649 0.95676771 0.93869797 0.93304061 0.94950604 0.96424048\n",
            " 0.95512117 0.95989192 0.96635143 0.96246728 0.92295027 0.9598497\n",
            " 0.98792536 0.98594106 0.92531453 0.92172591 0.96474711 0.97572406\n",
            " 0.99159841 0.96972895 0.97614625 0.96795575 1.         0.99016297\n",
            " 0.99050072 0.96538039 0.98488559 0.97086887 0.94026007 0.87748037\n",
            " 0.83483915 0.85413324 0.77336823 0.77269273 0.88014017 0.84007431\n",
            " 0.89673225 0.85527316 0.83884995 0.74233725 0.82327113 0.78143207\n",
            " 0.6665963  0.7921557  0.64118044 0.68614371 0.66001013 0.65203074\n",
            " 0.58642236 0.56586169 0.66089673 0.65515494 0.70970193 0.66452757\n",
            " 0.69437642 0.69218104 0.63569197 0.65266402 0.63780292 0.7267162\n",
            " 0.71388162 0.74191506 0.75002111 0.77222832 0.83049059 0.8194292\n",
            " 0.8289707  0.8125475  0.78776492 0.75162543 0.78426074 0.77974331\n",
            " 0.81326522 0.8141096  0.79473106 0.83336148 0.85898843 0.83901883\n",
            " 0.85628641 0.87486279 0.88782403 0.90095415 0.92793211 0.948535\n",
            " 0.93333615 0.91746179 0.92544119 0.91771511 0.9483239  0.94064004\n",
            " 0.96635143 0.9563033  0.96491598 0.95579667 0.94888657 0.94294238\n",
            " 0.93356383 0.92348439 0.91416931 0.90610415]\n",
            "6 day output [[0.89921296]]\n",
            "7 day input [0.95676771 0.93869797 0.93304061 0.94950604 0.96424048 0.95512117\n",
            " 0.95989192 0.96635143 0.96246728 0.92295027 0.9598497  0.98792536\n",
            " 0.98594106 0.92531453 0.92172591 0.96474711 0.97572406 0.99159841\n",
            " 0.96972895 0.97614625 0.96795575 1.         0.99016297 0.99050072\n",
            " 0.96538039 0.98488559 0.97086887 0.94026007 0.87748037 0.83483915\n",
            " 0.85413324 0.77336823 0.77269273 0.88014017 0.84007431 0.89673225\n",
            " 0.85527316 0.83884995 0.74233725 0.82327113 0.78143207 0.6665963\n",
            " 0.7921557  0.64118044 0.68614371 0.66001013 0.65203074 0.58642236\n",
            " 0.56586169 0.66089673 0.65515494 0.70970193 0.66452757 0.69437642\n",
            " 0.69218104 0.63569197 0.65266402 0.63780292 0.7267162  0.71388162\n",
            " 0.74191506 0.75002111 0.77222832 0.83049059 0.8194292  0.8289707\n",
            " 0.8125475  0.78776492 0.75162543 0.78426074 0.77974331 0.81326522\n",
            " 0.8141096  0.79473106 0.83336148 0.85898843 0.83901883 0.85628641\n",
            " 0.87486279 0.88782403 0.90095415 0.92793211 0.948535   0.93333615\n",
            " 0.91746179 0.92544119 0.91771511 0.9483239  0.94064004 0.96635143\n",
            " 0.9563033  0.96491598 0.95579667 0.94888657 0.94294238 0.93356383\n",
            " 0.92348439 0.91416931 0.90610415 0.89921296]\n",
            "7 day output [[0.89317775]]\n",
            "8 day input [0.93869797 0.93304061 0.94950604 0.96424048 0.95512117 0.95989192\n",
            " 0.96635143 0.96246728 0.92295027 0.9598497  0.98792536 0.98594106\n",
            " 0.92531453 0.92172591 0.96474711 0.97572406 0.99159841 0.96972895\n",
            " 0.97614625 0.96795575 1.         0.99016297 0.99050072 0.96538039\n",
            " 0.98488559 0.97086887 0.94026007 0.87748037 0.83483915 0.85413324\n",
            " 0.77336823 0.77269273 0.88014017 0.84007431 0.89673225 0.85527316\n",
            " 0.83884995 0.74233725 0.82327113 0.78143207 0.6665963  0.7921557\n",
            " 0.64118044 0.68614371 0.66001013 0.65203074 0.58642236 0.56586169\n",
            " 0.66089673 0.65515494 0.70970193 0.66452757 0.69437642 0.69218104\n",
            " 0.63569197 0.65266402 0.63780292 0.7267162  0.71388162 0.74191506\n",
            " 0.75002111 0.77222832 0.83049059 0.8194292  0.8289707  0.8125475\n",
            " 0.78776492 0.75162543 0.78426074 0.77974331 0.81326522 0.8141096\n",
            " 0.79473106 0.83336148 0.85898843 0.83901883 0.85628641 0.87486279\n",
            " 0.88782403 0.90095415 0.92793211 0.948535   0.93333615 0.91746179\n",
            " 0.92544119 0.91771511 0.9483239  0.94064004 0.96635143 0.9563033\n",
            " 0.96491598 0.95579667 0.94888657 0.94294238 0.93356383 0.92348439\n",
            " 0.91416931 0.90610415 0.89921296 0.89317775]\n",
            "8 day output [[0.8876295]]\n",
            "9 day input [0.93304061 0.94950604 0.96424048 0.95512117 0.95989192 0.96635143\n",
            " 0.96246728 0.92295027 0.9598497  0.98792536 0.98594106 0.92531453\n",
            " 0.92172591 0.96474711 0.97572406 0.99159841 0.96972895 0.97614625\n",
            " 0.96795575 1.         0.99016297 0.99050072 0.96538039 0.98488559\n",
            " 0.97086887 0.94026007 0.87748037 0.83483915 0.85413324 0.77336823\n",
            " 0.77269273 0.88014017 0.84007431 0.89673225 0.85527316 0.83884995\n",
            " 0.74233725 0.82327113 0.78143207 0.6665963  0.7921557  0.64118044\n",
            " 0.68614371 0.66001013 0.65203074 0.58642236 0.56586169 0.66089673\n",
            " 0.65515494 0.70970193 0.66452757 0.69437642 0.69218104 0.63569197\n",
            " 0.65266402 0.63780292 0.7267162  0.71388162 0.74191506 0.75002111\n",
            " 0.77222832 0.83049059 0.8194292  0.8289707  0.8125475  0.78776492\n",
            " 0.75162543 0.78426074 0.77974331 0.81326522 0.8141096  0.79473106\n",
            " 0.83336148 0.85898843 0.83901883 0.85628641 0.87486279 0.88782403\n",
            " 0.90095415 0.92793211 0.948535   0.93333615 0.91746179 0.92544119\n",
            " 0.91771511 0.9483239  0.94064004 0.96635143 0.9563033  0.96491598\n",
            " 0.95579667 0.94888657 0.94294238 0.93356383 0.92348439 0.91416931\n",
            " 0.90610415 0.89921296 0.89317775 0.88762951]\n",
            "9 day output [[0.88223726]]\n",
            "10 day input [0.94950604 0.96424048 0.95512117 0.95989192 0.96635143 0.96246728\n",
            " 0.92295027 0.9598497  0.98792536 0.98594106 0.92531453 0.92172591\n",
            " 0.96474711 0.97572406 0.99159841 0.96972895 0.97614625 0.96795575\n",
            " 1.         0.99016297 0.99050072 0.96538039 0.98488559 0.97086887\n",
            " 0.94026007 0.87748037 0.83483915 0.85413324 0.77336823 0.77269273\n",
            " 0.88014017 0.84007431 0.89673225 0.85527316 0.83884995 0.74233725\n",
            " 0.82327113 0.78143207 0.6665963  0.7921557  0.64118044 0.68614371\n",
            " 0.66001013 0.65203074 0.58642236 0.56586169 0.66089673 0.65515494\n",
            " 0.70970193 0.66452757 0.69437642 0.69218104 0.63569197 0.65266402\n",
            " 0.63780292 0.7267162  0.71388162 0.74191506 0.75002111 0.77222832\n",
            " 0.83049059 0.8194292  0.8289707  0.8125475  0.78776492 0.75162543\n",
            " 0.78426074 0.77974331 0.81326522 0.8141096  0.79473106 0.83336148\n",
            " 0.85898843 0.83901883 0.85628641 0.87486279 0.88782403 0.90095415\n",
            " 0.92793211 0.948535   0.93333615 0.91746179 0.92544119 0.91771511\n",
            " 0.9483239  0.94064004 0.96635143 0.9563033  0.96491598 0.95579667\n",
            " 0.94888657 0.94294238 0.93356383 0.92348439 0.91416931 0.90610415\n",
            " 0.89921296 0.89317775 0.88762951 0.88223726]\n",
            "10 day output [[0.8767476]]\n",
            "11 day input [0.96424048 0.95512117 0.95989192 0.96635143 0.96246728 0.92295027\n",
            " 0.9598497  0.98792536 0.98594106 0.92531453 0.92172591 0.96474711\n",
            " 0.97572406 0.99159841 0.96972895 0.97614625 0.96795575 1.\n",
            " 0.99016297 0.99050072 0.96538039 0.98488559 0.97086887 0.94026007\n",
            " 0.87748037 0.83483915 0.85413324 0.77336823 0.77269273 0.88014017\n",
            " 0.84007431 0.89673225 0.85527316 0.83884995 0.74233725 0.82327113\n",
            " 0.78143207 0.6665963  0.7921557  0.64118044 0.68614371 0.66001013\n",
            " 0.65203074 0.58642236 0.56586169 0.66089673 0.65515494 0.70970193\n",
            " 0.66452757 0.69437642 0.69218104 0.63569197 0.65266402 0.63780292\n",
            " 0.7267162  0.71388162 0.74191506 0.75002111 0.77222832 0.83049059\n",
            " 0.8194292  0.8289707  0.8125475  0.78776492 0.75162543 0.78426074\n",
            " 0.77974331 0.81326522 0.8141096  0.79473106 0.83336148 0.85898843\n",
            " 0.83901883 0.85628641 0.87486279 0.88782403 0.90095415 0.92793211\n",
            " 0.948535   0.93333615 0.91746179 0.92544119 0.91771511 0.9483239\n",
            " 0.94064004 0.96635143 0.9563033  0.96491598 0.95579667 0.94888657\n",
            " 0.94294238 0.93356383 0.92348439 0.91416931 0.90610415 0.89921296\n",
            " 0.89317775 0.88762951 0.88223726 0.87674761]\n",
            "11 day output [[0.8709915]]\n",
            "12 day input [0.95512117 0.95989192 0.96635143 0.96246728 0.92295027 0.9598497\n",
            " 0.98792536 0.98594106 0.92531453 0.92172591 0.96474711 0.97572406\n",
            " 0.99159841 0.96972895 0.97614625 0.96795575 1.         0.99016297\n",
            " 0.99050072 0.96538039 0.98488559 0.97086887 0.94026007 0.87748037\n",
            " 0.83483915 0.85413324 0.77336823 0.77269273 0.88014017 0.84007431\n",
            " 0.89673225 0.85527316 0.83884995 0.74233725 0.82327113 0.78143207\n",
            " 0.6665963  0.7921557  0.64118044 0.68614371 0.66001013 0.65203074\n",
            " 0.58642236 0.56586169 0.66089673 0.65515494 0.70970193 0.66452757\n",
            " 0.69437642 0.69218104 0.63569197 0.65266402 0.63780292 0.7267162\n",
            " 0.71388162 0.74191506 0.75002111 0.77222832 0.83049059 0.8194292\n",
            " 0.8289707  0.8125475  0.78776492 0.75162543 0.78426074 0.77974331\n",
            " 0.81326522 0.8141096  0.79473106 0.83336148 0.85898843 0.83901883\n",
            " 0.85628641 0.87486279 0.88782403 0.90095415 0.92793211 0.948535\n",
            " 0.93333615 0.91746179 0.92544119 0.91771511 0.9483239  0.94064004\n",
            " 0.96635143 0.9563033  0.96491598 0.95579667 0.94888657 0.94294238\n",
            " 0.93356383 0.92348439 0.91416931 0.90610415 0.89921296 0.89317775\n",
            " 0.88762951 0.88223726 0.87674761 0.87099153]\n",
            "12 day output [[0.86487854]]\n",
            "13 day input [0.95989192 0.96635143 0.96246728 0.92295027 0.9598497  0.98792536\n",
            " 0.98594106 0.92531453 0.92172591 0.96474711 0.97572406 0.99159841\n",
            " 0.96972895 0.97614625 0.96795575 1.         0.99016297 0.99050072\n",
            " 0.96538039 0.98488559 0.97086887 0.94026007 0.87748037 0.83483915\n",
            " 0.85413324 0.77336823 0.77269273 0.88014017 0.84007431 0.89673225\n",
            " 0.85527316 0.83884995 0.74233725 0.82327113 0.78143207 0.6665963\n",
            " 0.7921557  0.64118044 0.68614371 0.66001013 0.65203074 0.58642236\n",
            " 0.56586169 0.66089673 0.65515494 0.70970193 0.66452757 0.69437642\n",
            " 0.69218104 0.63569197 0.65266402 0.63780292 0.7267162  0.71388162\n",
            " 0.74191506 0.75002111 0.77222832 0.83049059 0.8194292  0.8289707\n",
            " 0.8125475  0.78776492 0.75162543 0.78426074 0.77974331 0.81326522\n",
            " 0.8141096  0.79473106 0.83336148 0.85898843 0.83901883 0.85628641\n",
            " 0.87486279 0.88782403 0.90095415 0.92793211 0.948535   0.93333615\n",
            " 0.91746179 0.92544119 0.91771511 0.9483239  0.94064004 0.96635143\n",
            " 0.9563033  0.96491598 0.95579667 0.94888657 0.94294238 0.93356383\n",
            " 0.92348439 0.91416931 0.90610415 0.89921296 0.89317775 0.88762951\n",
            " 0.88223726 0.87674761 0.87099153 0.86487854]\n",
            "13 day output [[0.85838336]]\n",
            "14 day input [0.96635143 0.96246728 0.92295027 0.9598497  0.98792536 0.98594106\n",
            " 0.92531453 0.92172591 0.96474711 0.97572406 0.99159841 0.96972895\n",
            " 0.97614625 0.96795575 1.         0.99016297 0.99050072 0.96538039\n",
            " 0.98488559 0.97086887 0.94026007 0.87748037 0.83483915 0.85413324\n",
            " 0.77336823 0.77269273 0.88014017 0.84007431 0.89673225 0.85527316\n",
            " 0.83884995 0.74233725 0.82327113 0.78143207 0.6665963  0.7921557\n",
            " 0.64118044 0.68614371 0.66001013 0.65203074 0.58642236 0.56586169\n",
            " 0.66089673 0.65515494 0.70970193 0.66452757 0.69437642 0.69218104\n",
            " 0.63569197 0.65266402 0.63780292 0.7267162  0.71388162 0.74191506\n",
            " 0.75002111 0.77222832 0.83049059 0.8194292  0.8289707  0.8125475\n",
            " 0.78776492 0.75162543 0.78426074 0.77974331 0.81326522 0.8141096\n",
            " 0.79473106 0.83336148 0.85898843 0.83901883 0.85628641 0.87486279\n",
            " 0.88782403 0.90095415 0.92793211 0.948535   0.93333615 0.91746179\n",
            " 0.92544119 0.91771511 0.9483239  0.94064004 0.96635143 0.9563033\n",
            " 0.96491598 0.95579667 0.94888657 0.94294238 0.93356383 0.92348439\n",
            " 0.91416931 0.90610415 0.89921296 0.89317775 0.88762951 0.88223726\n",
            " 0.87674761 0.87099153 0.86487854 0.85838336]\n",
            "14 day output [[0.8515283]]\n",
            "15 day input [0.96246728 0.92295027 0.9598497  0.98792536 0.98594106 0.92531453\n",
            " 0.92172591 0.96474711 0.97572406 0.99159841 0.96972895 0.97614625\n",
            " 0.96795575 1.         0.99016297 0.99050072 0.96538039 0.98488559\n",
            " 0.97086887 0.94026007 0.87748037 0.83483915 0.85413324 0.77336823\n",
            " 0.77269273 0.88014017 0.84007431 0.89673225 0.85527316 0.83884995\n",
            " 0.74233725 0.82327113 0.78143207 0.6665963  0.7921557  0.64118044\n",
            " 0.68614371 0.66001013 0.65203074 0.58642236 0.56586169 0.66089673\n",
            " 0.65515494 0.70970193 0.66452757 0.69437642 0.69218104 0.63569197\n",
            " 0.65266402 0.63780292 0.7267162  0.71388162 0.74191506 0.75002111\n",
            " 0.77222832 0.83049059 0.8194292  0.8289707  0.8125475  0.78776492\n",
            " 0.75162543 0.78426074 0.77974331 0.81326522 0.8141096  0.79473106\n",
            " 0.83336148 0.85898843 0.83901883 0.85628641 0.87486279 0.88782403\n",
            " 0.90095415 0.92793211 0.948535   0.93333615 0.91746179 0.92544119\n",
            " 0.91771511 0.9483239  0.94064004 0.96635143 0.9563033  0.96491598\n",
            " 0.95579667 0.94888657 0.94294238 0.93356383 0.92348439 0.91416931\n",
            " 0.90610415 0.89921296 0.89317775 0.88762951 0.88223726 0.87674761\n",
            " 0.87099153 0.86487854 0.85838336 0.85152829]\n",
            "15 day output [[0.8443643]]\n",
            "16 day input [0.92295027 0.9598497  0.98792536 0.98594106 0.92531453 0.92172591\n",
            " 0.96474711 0.97572406 0.99159841 0.96972895 0.97614625 0.96795575\n",
            " 1.         0.99016297 0.99050072 0.96538039 0.98488559 0.97086887\n",
            " 0.94026007 0.87748037 0.83483915 0.85413324 0.77336823 0.77269273\n",
            " 0.88014017 0.84007431 0.89673225 0.85527316 0.83884995 0.74233725\n",
            " 0.82327113 0.78143207 0.6665963  0.7921557  0.64118044 0.68614371\n",
            " 0.66001013 0.65203074 0.58642236 0.56586169 0.66089673 0.65515494\n",
            " 0.70970193 0.66452757 0.69437642 0.69218104 0.63569197 0.65266402\n",
            " 0.63780292 0.7267162  0.71388162 0.74191506 0.75002111 0.77222832\n",
            " 0.83049059 0.8194292  0.8289707  0.8125475  0.78776492 0.75162543\n",
            " 0.78426074 0.77974331 0.81326522 0.8141096  0.79473106 0.83336148\n",
            " 0.85898843 0.83901883 0.85628641 0.87486279 0.88782403 0.90095415\n",
            " 0.92793211 0.948535   0.93333615 0.91746179 0.92544119 0.91771511\n",
            " 0.9483239  0.94064004 0.96635143 0.9563033  0.96491598 0.95579667\n",
            " 0.94888657 0.94294238 0.93356383 0.92348439 0.91416931 0.90610415\n",
            " 0.89921296 0.89317775 0.88762951 0.88223726 0.87674761 0.87099153\n",
            " 0.86487854 0.85838336 0.85152829 0.84436429]\n",
            "16 day output [[0.8369552]]\n",
            "17 day input [0.9598497  0.98792536 0.98594106 0.92531453 0.92172591 0.96474711\n",
            " 0.97572406 0.99159841 0.96972895 0.97614625 0.96795575 1.\n",
            " 0.99016297 0.99050072 0.96538039 0.98488559 0.97086887 0.94026007\n",
            " 0.87748037 0.83483915 0.85413324 0.77336823 0.77269273 0.88014017\n",
            " 0.84007431 0.89673225 0.85527316 0.83884995 0.74233725 0.82327113\n",
            " 0.78143207 0.6665963  0.7921557  0.64118044 0.68614371 0.66001013\n",
            " 0.65203074 0.58642236 0.56586169 0.66089673 0.65515494 0.70970193\n",
            " 0.66452757 0.69437642 0.69218104 0.63569197 0.65266402 0.63780292\n",
            " 0.7267162  0.71388162 0.74191506 0.75002111 0.77222832 0.83049059\n",
            " 0.8194292  0.8289707  0.8125475  0.78776492 0.75162543 0.78426074\n",
            " 0.77974331 0.81326522 0.8141096  0.79473106 0.83336148 0.85898843\n",
            " 0.83901883 0.85628641 0.87486279 0.88782403 0.90095415 0.92793211\n",
            " 0.948535   0.93333615 0.91746179 0.92544119 0.91771511 0.9483239\n",
            " 0.94064004 0.96635143 0.9563033  0.96491598 0.95579667 0.94888657\n",
            " 0.94294238 0.93356383 0.92348439 0.91416931 0.90610415 0.89921296\n",
            " 0.89317775 0.88762951 0.88223726 0.87674761 0.87099153 0.86487854\n",
            " 0.85838336 0.85152829 0.84436429 0.83695519]\n",
            "17 day output [[0.82936376]]\n",
            "18 day input [0.98792536 0.98594106 0.92531453 0.92172591 0.96474711 0.97572406\n",
            " 0.99159841 0.96972895 0.97614625 0.96795575 1.         0.99016297\n",
            " 0.99050072 0.96538039 0.98488559 0.97086887 0.94026007 0.87748037\n",
            " 0.83483915 0.85413324 0.77336823 0.77269273 0.88014017 0.84007431\n",
            " 0.89673225 0.85527316 0.83884995 0.74233725 0.82327113 0.78143207\n",
            " 0.6665963  0.7921557  0.64118044 0.68614371 0.66001013 0.65203074\n",
            " 0.58642236 0.56586169 0.66089673 0.65515494 0.70970193 0.66452757\n",
            " 0.69437642 0.69218104 0.63569197 0.65266402 0.63780292 0.7267162\n",
            " 0.71388162 0.74191506 0.75002111 0.77222832 0.83049059 0.8194292\n",
            " 0.8289707  0.8125475  0.78776492 0.75162543 0.78426074 0.77974331\n",
            " 0.81326522 0.8141096  0.79473106 0.83336148 0.85898843 0.83901883\n",
            " 0.85628641 0.87486279 0.88782403 0.90095415 0.92793211 0.948535\n",
            " 0.93333615 0.91746179 0.92544119 0.91771511 0.9483239  0.94064004\n",
            " 0.96635143 0.9563033  0.96491598 0.95579667 0.94888657 0.94294238\n",
            " 0.93356383 0.92348439 0.91416931 0.90610415 0.89921296 0.89317775\n",
            " 0.88762951 0.88223726 0.87674761 0.87099153 0.86487854 0.85838336\n",
            " 0.85152829 0.84436429 0.83695519 0.82936376]\n",
            "18 day output [[0.8216425]]\n",
            "19 day input [0.98594106 0.92531453 0.92172591 0.96474711 0.97572406 0.99159841\n",
            " 0.96972895 0.97614625 0.96795575 1.         0.99016297 0.99050072\n",
            " 0.96538039 0.98488559 0.97086887 0.94026007 0.87748037 0.83483915\n",
            " 0.85413324 0.77336823 0.77269273 0.88014017 0.84007431 0.89673225\n",
            " 0.85527316 0.83884995 0.74233725 0.82327113 0.78143207 0.6665963\n",
            " 0.7921557  0.64118044 0.68614371 0.66001013 0.65203074 0.58642236\n",
            " 0.56586169 0.66089673 0.65515494 0.70970193 0.66452757 0.69437642\n",
            " 0.69218104 0.63569197 0.65266402 0.63780292 0.7267162  0.71388162\n",
            " 0.74191506 0.75002111 0.77222832 0.83049059 0.8194292  0.8289707\n",
            " 0.8125475  0.78776492 0.75162543 0.78426074 0.77974331 0.81326522\n",
            " 0.8141096  0.79473106 0.83336148 0.85898843 0.83901883 0.85628641\n",
            " 0.87486279 0.88782403 0.90095415 0.92793211 0.948535   0.93333615\n",
            " 0.91746179 0.92544119 0.91771511 0.9483239  0.94064004 0.96635143\n",
            " 0.9563033  0.96491598 0.95579667 0.94888657 0.94294238 0.93356383\n",
            " 0.92348439 0.91416931 0.90610415 0.89921296 0.89317775 0.88762951\n",
            " 0.88223726 0.87674761 0.87099153 0.86487854 0.85838336 0.85152829\n",
            " 0.84436429 0.83695519 0.82936376 0.82164252]\n",
            "19 day output [[0.8138297]]\n",
            "20 day input [0.92531453 0.92172591 0.96474711 0.97572406 0.99159841 0.96972895\n",
            " 0.97614625 0.96795575 1.         0.99016297 0.99050072 0.96538039\n",
            " 0.98488559 0.97086887 0.94026007 0.87748037 0.83483915 0.85413324\n",
            " 0.77336823 0.77269273 0.88014017 0.84007431 0.89673225 0.85527316\n",
            " 0.83884995 0.74233725 0.82327113 0.78143207 0.6665963  0.7921557\n",
            " 0.64118044 0.68614371 0.66001013 0.65203074 0.58642236 0.56586169\n",
            " 0.66089673 0.65515494 0.70970193 0.66452757 0.69437642 0.69218104\n",
            " 0.63569197 0.65266402 0.63780292 0.7267162  0.71388162 0.74191506\n",
            " 0.75002111 0.77222832 0.83049059 0.8194292  0.8289707  0.8125475\n",
            " 0.78776492 0.75162543 0.78426074 0.77974331 0.81326522 0.8141096\n",
            " 0.79473106 0.83336148 0.85898843 0.83901883 0.85628641 0.87486279\n",
            " 0.88782403 0.90095415 0.92793211 0.948535   0.93333615 0.91746179\n",
            " 0.92544119 0.91771511 0.9483239  0.94064004 0.96635143 0.9563033\n",
            " 0.96491598 0.95579667 0.94888657 0.94294238 0.93356383 0.92348439\n",
            " 0.91416931 0.90610415 0.89921296 0.89317775 0.88762951 0.88223726\n",
            " 0.87674761 0.87099153 0.86487854 0.85838336 0.85152829 0.84436429\n",
            " 0.83695519 0.82936376 0.82164252 0.81382972]\n",
            "20 day output [[0.80594707]]\n",
            "21 day input [0.92172591 0.96474711 0.97572406 0.99159841 0.96972895 0.97614625\n",
            " 0.96795575 1.         0.99016297 0.99050072 0.96538039 0.98488559\n",
            " 0.97086887 0.94026007 0.87748037 0.83483915 0.85413324 0.77336823\n",
            " 0.77269273 0.88014017 0.84007431 0.89673225 0.85527316 0.83884995\n",
            " 0.74233725 0.82327113 0.78143207 0.6665963  0.7921557  0.64118044\n",
            " 0.68614371 0.66001013 0.65203074 0.58642236 0.56586169 0.66089673\n",
            " 0.65515494 0.70970193 0.66452757 0.69437642 0.69218104 0.63569197\n",
            " 0.65266402 0.63780292 0.7267162  0.71388162 0.74191506 0.75002111\n",
            " 0.77222832 0.83049059 0.8194292  0.8289707  0.8125475  0.78776492\n",
            " 0.75162543 0.78426074 0.77974331 0.81326522 0.8141096  0.79473106\n",
            " 0.83336148 0.85898843 0.83901883 0.85628641 0.87486279 0.88782403\n",
            " 0.90095415 0.92793211 0.948535   0.93333615 0.91746179 0.92544119\n",
            " 0.91771511 0.9483239  0.94064004 0.96635143 0.9563033  0.96491598\n",
            " 0.95579667 0.94888657 0.94294238 0.93356383 0.92348439 0.91416931\n",
            " 0.90610415 0.89921296 0.89317775 0.88762951 0.88223726 0.87674761\n",
            " 0.87099153 0.86487854 0.85838336 0.85152829 0.84436429 0.83695519\n",
            " 0.82936376 0.82164252 0.81382972 0.80594707]\n",
            "21 day output [[0.7980021]]\n",
            "22 day input [0.96474711 0.97572406 0.99159841 0.96972895 0.97614625 0.96795575\n",
            " 1.         0.99016297 0.99050072 0.96538039 0.98488559 0.97086887\n",
            " 0.94026007 0.87748037 0.83483915 0.85413324 0.77336823 0.77269273\n",
            " 0.88014017 0.84007431 0.89673225 0.85527316 0.83884995 0.74233725\n",
            " 0.82327113 0.78143207 0.6665963  0.7921557  0.64118044 0.68614371\n",
            " 0.66001013 0.65203074 0.58642236 0.56586169 0.66089673 0.65515494\n",
            " 0.70970193 0.66452757 0.69437642 0.69218104 0.63569197 0.65266402\n",
            " 0.63780292 0.7267162  0.71388162 0.74191506 0.75002111 0.77222832\n",
            " 0.83049059 0.8194292  0.8289707  0.8125475  0.78776492 0.75162543\n",
            " 0.78426074 0.77974331 0.81326522 0.8141096  0.79473106 0.83336148\n",
            " 0.85898843 0.83901883 0.85628641 0.87486279 0.88782403 0.90095415\n",
            " 0.92793211 0.948535   0.93333615 0.91746179 0.92544119 0.91771511\n",
            " 0.9483239  0.94064004 0.96635143 0.9563033  0.96491598 0.95579667\n",
            " 0.94888657 0.94294238 0.93356383 0.92348439 0.91416931 0.90610415\n",
            " 0.89921296 0.89317775 0.88762951 0.88223726 0.87674761 0.87099153\n",
            " 0.86487854 0.85838336 0.85152829 0.84436429 0.83695519 0.82936376\n",
            " 0.82164252 0.81382972 0.80594707 0.79800212]\n",
            "22 day output [[0.7899916]]\n",
            "23 day input [0.97572406 0.99159841 0.96972895 0.97614625 0.96795575 1.\n",
            " 0.99016297 0.99050072 0.96538039 0.98488559 0.97086887 0.94026007\n",
            " 0.87748037 0.83483915 0.85413324 0.77336823 0.77269273 0.88014017\n",
            " 0.84007431 0.89673225 0.85527316 0.83884995 0.74233725 0.82327113\n",
            " 0.78143207 0.6665963  0.7921557  0.64118044 0.68614371 0.66001013\n",
            " 0.65203074 0.58642236 0.56586169 0.66089673 0.65515494 0.70970193\n",
            " 0.66452757 0.69437642 0.69218104 0.63569197 0.65266402 0.63780292\n",
            " 0.7267162  0.71388162 0.74191506 0.75002111 0.77222832 0.83049059\n",
            " 0.8194292  0.8289707  0.8125475  0.78776492 0.75162543 0.78426074\n",
            " 0.77974331 0.81326522 0.8141096  0.79473106 0.83336148 0.85898843\n",
            " 0.83901883 0.85628641 0.87486279 0.88782403 0.90095415 0.92793211\n",
            " 0.948535   0.93333615 0.91746179 0.92544119 0.91771511 0.9483239\n",
            " 0.94064004 0.96635143 0.9563033  0.96491598 0.95579667 0.94888657\n",
            " 0.94294238 0.93356383 0.92348439 0.91416931 0.90610415 0.89921296\n",
            " 0.89317775 0.88762951 0.88223726 0.87674761 0.87099153 0.86487854\n",
            " 0.85838336 0.85152829 0.84436429 0.83695519 0.82936376 0.82164252\n",
            " 0.81382972 0.80594707 0.79800212 0.78999162]\n",
            "23 day output [[0.78190464]]\n",
            "24 day input [0.99159841 0.96972895 0.97614625 0.96795575 1.         0.99016297\n",
            " 0.99050072 0.96538039 0.98488559 0.97086887 0.94026007 0.87748037\n",
            " 0.83483915 0.85413324 0.77336823 0.77269273 0.88014017 0.84007431\n",
            " 0.89673225 0.85527316 0.83884995 0.74233725 0.82327113 0.78143207\n",
            " 0.6665963  0.7921557  0.64118044 0.68614371 0.66001013 0.65203074\n",
            " 0.58642236 0.56586169 0.66089673 0.65515494 0.70970193 0.66452757\n",
            " 0.69437642 0.69218104 0.63569197 0.65266402 0.63780292 0.7267162\n",
            " 0.71388162 0.74191506 0.75002111 0.77222832 0.83049059 0.8194292\n",
            " 0.8289707  0.8125475  0.78776492 0.75162543 0.78426074 0.77974331\n",
            " 0.81326522 0.8141096  0.79473106 0.83336148 0.85898843 0.83901883\n",
            " 0.85628641 0.87486279 0.88782403 0.90095415 0.92793211 0.948535\n",
            " 0.93333615 0.91746179 0.92544119 0.91771511 0.9483239  0.94064004\n",
            " 0.96635143 0.9563033  0.96491598 0.95579667 0.94888657 0.94294238\n",
            " 0.93356383 0.92348439 0.91416931 0.90610415 0.89921296 0.89317775\n",
            " 0.88762951 0.88223726 0.87674761 0.87099153 0.86487854 0.85838336\n",
            " 0.85152829 0.84436429 0.83695519 0.82936376 0.82164252 0.81382972\n",
            " 0.80594707 0.79800212 0.78999162 0.78190464]\n",
            "24 day output [[0.7737273]]\n",
            "25 day input [0.96972895 0.97614625 0.96795575 1.         0.99016297 0.99050072\n",
            " 0.96538039 0.98488559 0.97086887 0.94026007 0.87748037 0.83483915\n",
            " 0.85413324 0.77336823 0.77269273 0.88014017 0.84007431 0.89673225\n",
            " 0.85527316 0.83884995 0.74233725 0.82327113 0.78143207 0.6665963\n",
            " 0.7921557  0.64118044 0.68614371 0.66001013 0.65203074 0.58642236\n",
            " 0.56586169 0.66089673 0.65515494 0.70970193 0.66452757 0.69437642\n",
            " 0.69218104 0.63569197 0.65266402 0.63780292 0.7267162  0.71388162\n",
            " 0.74191506 0.75002111 0.77222832 0.83049059 0.8194292  0.8289707\n",
            " 0.8125475  0.78776492 0.75162543 0.78426074 0.77974331 0.81326522\n",
            " 0.8141096  0.79473106 0.83336148 0.85898843 0.83901883 0.85628641\n",
            " 0.87486279 0.88782403 0.90095415 0.92793211 0.948535   0.93333615\n",
            " 0.91746179 0.92544119 0.91771511 0.9483239  0.94064004 0.96635143\n",
            " 0.9563033  0.96491598 0.95579667 0.94888657 0.94294238 0.93356383\n",
            " 0.92348439 0.91416931 0.90610415 0.89921296 0.89317775 0.88762951\n",
            " 0.88223726 0.87674761 0.87099153 0.86487854 0.85838336 0.85152829\n",
            " 0.84436429 0.83695519 0.82936376 0.82164252 0.81382972 0.80594707\n",
            " 0.79800212 0.78999162 0.78190464 0.7737273 ]\n",
            "25 day output [[0.7654438]]\n",
            "26 day input [0.97614625 0.96795575 1.         0.99016297 0.99050072 0.96538039\n",
            " 0.98488559 0.97086887 0.94026007 0.87748037 0.83483915 0.85413324\n",
            " 0.77336823 0.77269273 0.88014017 0.84007431 0.89673225 0.85527316\n",
            " 0.83884995 0.74233725 0.82327113 0.78143207 0.6665963  0.7921557\n",
            " 0.64118044 0.68614371 0.66001013 0.65203074 0.58642236 0.56586169\n",
            " 0.66089673 0.65515494 0.70970193 0.66452757 0.69437642 0.69218104\n",
            " 0.63569197 0.65266402 0.63780292 0.7267162  0.71388162 0.74191506\n",
            " 0.75002111 0.77222832 0.83049059 0.8194292  0.8289707  0.8125475\n",
            " 0.78776492 0.75162543 0.78426074 0.77974331 0.81326522 0.8141096\n",
            " 0.79473106 0.83336148 0.85898843 0.83901883 0.85628641 0.87486279\n",
            " 0.88782403 0.90095415 0.92793211 0.948535   0.93333615 0.91746179\n",
            " 0.92544119 0.91771511 0.9483239  0.94064004 0.96635143 0.9563033\n",
            " 0.96491598 0.95579667 0.94888657 0.94294238 0.93356383 0.92348439\n",
            " 0.91416931 0.90610415 0.89921296 0.89317775 0.88762951 0.88223726\n",
            " 0.87674761 0.87099153 0.86487854 0.85838336 0.85152829 0.84436429\n",
            " 0.83695519 0.82936376 0.82164252 0.81382972 0.80594707 0.79800212\n",
            " 0.78999162 0.78190464 0.7737273  0.7654438 ]\n",
            "26 day output [[0.7570408]]\n",
            "27 day input [0.96795575 1.         0.99016297 0.99050072 0.96538039 0.98488559\n",
            " 0.97086887 0.94026007 0.87748037 0.83483915 0.85413324 0.77336823\n",
            " 0.77269273 0.88014017 0.84007431 0.89673225 0.85527316 0.83884995\n",
            " 0.74233725 0.82327113 0.78143207 0.6665963  0.7921557  0.64118044\n",
            " 0.68614371 0.66001013 0.65203074 0.58642236 0.56586169 0.66089673\n",
            " 0.65515494 0.70970193 0.66452757 0.69437642 0.69218104 0.63569197\n",
            " 0.65266402 0.63780292 0.7267162  0.71388162 0.74191506 0.75002111\n",
            " 0.77222832 0.83049059 0.8194292  0.8289707  0.8125475  0.78776492\n",
            " 0.75162543 0.78426074 0.77974331 0.81326522 0.8141096  0.79473106\n",
            " 0.83336148 0.85898843 0.83901883 0.85628641 0.87486279 0.88782403\n",
            " 0.90095415 0.92793211 0.948535   0.93333615 0.91746179 0.92544119\n",
            " 0.91771511 0.9483239  0.94064004 0.96635143 0.9563033  0.96491598\n",
            " 0.95579667 0.94888657 0.94294238 0.93356383 0.92348439 0.91416931\n",
            " 0.90610415 0.89921296 0.89317775 0.88762951 0.88223726 0.87674761\n",
            " 0.87099153 0.86487854 0.85838336 0.85152829 0.84436429 0.83695519\n",
            " 0.82936376 0.82164252 0.81382972 0.80594707 0.79800212 0.78999162\n",
            " 0.78190464 0.7737273  0.7654438  0.7570408 ]\n",
            "27 day output [[0.7485072]]\n",
            "28 day input [1.         0.99016297 0.99050072 0.96538039 0.98488559 0.97086887\n",
            " 0.94026007 0.87748037 0.83483915 0.85413324 0.77336823 0.77269273\n",
            " 0.88014017 0.84007431 0.89673225 0.85527316 0.83884995 0.74233725\n",
            " 0.82327113 0.78143207 0.6665963  0.7921557  0.64118044 0.68614371\n",
            " 0.66001013 0.65203074 0.58642236 0.56586169 0.66089673 0.65515494\n",
            " 0.70970193 0.66452757 0.69437642 0.69218104 0.63569197 0.65266402\n",
            " 0.63780292 0.7267162  0.71388162 0.74191506 0.75002111 0.77222832\n",
            " 0.83049059 0.8194292  0.8289707  0.8125475  0.78776492 0.75162543\n",
            " 0.78426074 0.77974331 0.81326522 0.8141096  0.79473106 0.83336148\n",
            " 0.85898843 0.83901883 0.85628641 0.87486279 0.88782403 0.90095415\n",
            " 0.92793211 0.948535   0.93333615 0.91746179 0.92544119 0.91771511\n",
            " 0.9483239  0.94064004 0.96635143 0.9563033  0.96491598 0.95579667\n",
            " 0.94888657 0.94294238 0.93356383 0.92348439 0.91416931 0.90610415\n",
            " 0.89921296 0.89317775 0.88762951 0.88223726 0.87674761 0.87099153\n",
            " 0.86487854 0.85838336 0.85152829 0.84436429 0.83695519 0.82936376\n",
            " 0.82164252 0.81382972 0.80594707 0.79800212 0.78999162 0.78190464\n",
            " 0.7737273  0.7654438  0.7570408  0.7485072 ]\n",
            "28 day output [[0.7398349]]\n",
            "29 day input [0.99016297 0.99050072 0.96538039 0.98488559 0.97086887 0.94026007\n",
            " 0.87748037 0.83483915 0.85413324 0.77336823 0.77269273 0.88014017\n",
            " 0.84007431 0.89673225 0.85527316 0.83884995 0.74233725 0.82327113\n",
            " 0.78143207 0.6665963  0.7921557  0.64118044 0.68614371 0.66001013\n",
            " 0.65203074 0.58642236 0.56586169 0.66089673 0.65515494 0.70970193\n",
            " 0.66452757 0.69437642 0.69218104 0.63569197 0.65266402 0.63780292\n",
            " 0.7267162  0.71388162 0.74191506 0.75002111 0.77222832 0.83049059\n",
            " 0.8194292  0.8289707  0.8125475  0.78776492 0.75162543 0.78426074\n",
            " 0.77974331 0.81326522 0.8141096  0.79473106 0.83336148 0.85898843\n",
            " 0.83901883 0.85628641 0.87486279 0.88782403 0.90095415 0.92793211\n",
            " 0.948535   0.93333615 0.91746179 0.92544119 0.91771511 0.9483239\n",
            " 0.94064004 0.96635143 0.9563033  0.96491598 0.95579667 0.94888657\n",
            " 0.94294238 0.93356383 0.92348439 0.91416931 0.90610415 0.89921296\n",
            " 0.89317775 0.88762951 0.88223726 0.87674761 0.87099153 0.86487854\n",
            " 0.85838336 0.85152829 0.84436429 0.83695519 0.82936376 0.82164252\n",
            " 0.81382972 0.80594707 0.79800212 0.78999162 0.78190464 0.7737273\n",
            " 0.7654438  0.7570408  0.7485072  0.7398349 ]\n",
            "29 day output [[0.7310187]]\n",
            "[[0.9488865733146667], [0.9429423809051514], [0.9335638284683228], [0.9234843850135803], [0.9141693115234375], [0.9061041474342346], [0.8992129564285278], [0.8931777477264404], [0.887629508972168], [0.8822372555732727], [0.8767476081848145], [0.8709915280342102], [0.8648785352706909], [0.8583833575248718], [0.8515282869338989], [0.8443642854690552], [0.836955189704895], [0.8293637633323669], [0.8216425180435181], [0.8138297200202942], [0.8059470653533936], [0.7980021238327026], [0.7899916172027588], [0.7819046378135681], [0.773727297782898], [0.7654438018798828], [0.757040798664093], [0.7485072016716003], [0.7398349046707153], [0.7310187220573425]]\n"
          ],
          "name": "stdout"
        }
      ]
    },
    {
      "cell_type": "code",
      "metadata": {
        "id": "Ga4nHfQ--Pgc",
        "colab_type": "code",
        "colab": {}
      },
      "source": [
        "day_new=np.arange(1,101)\n",
        "day_pred=np.arange(101,131)"
      ],
      "execution_count": 0,
      "outputs": []
    },
    {
      "cell_type": "code",
      "metadata": {
        "id": "rX-dp2sh-gpA",
        "colab_type": "code",
        "colab": {
          "base_uri": "https://localhost:8080/",
          "height": 35
        },
        "outputId": "c7f10f7d-7e44-4327-ce72-007140861e75"
      },
      "source": [
        "len(data2)"
      ],
      "execution_count": 47,
      "outputs": [
        {
          "output_type": "execute_result",
          "data": {
            "text/plain": [
              "1257"
            ]
          },
          "metadata": {
            "tags": []
          },
          "execution_count": 47
        }
      ]
    },
    {
      "cell_type": "code",
      "metadata": {
        "id": "KK5SMU7Z-Trs",
        "colab_type": "code",
        "colab": {
          "base_uri": "https://localhost:8080/",
          "height": 283
        },
        "outputId": "445378b0-c413-468b-bdbd-73c844b7acbe"
      },
      "source": [
        "plt.plot(day_new,scaler.inverse_transform(data2[1157:]))\n",
        "plt.plot(day_pred,scaler.inverse_transform(lst_output))"
      ],
      "execution_count": 48,
      "outputs": [
        {
          "output_type": "execute_result",
          "data": {
            "text/plain": [
              "[<matplotlib.lines.Line2D at 0x7f21f1ffb908>]"
            ]
          },
          "metadata": {
            "tags": []
          },
          "execution_count": 48
        },
        {
          "output_type": "display_data",
          "data": {
            "image/png": "[encoded data removed]",
            "text/plain": [
              "<Figure size 432x288 with 1 Axes>"
            ]
          },
          "metadata": {
            "tags": [],
            "needs_background": "light"
          }
        }
      ]
    },
    {
      "cell_type": "code",
      "metadata": {
        "id": "-Jc3IQ_W-YE-",
        "colab_type": "code",
        "colab": {
          "base_uri": "https://localhost:8080/",
          "height": 283
        },
        "outputId": "b37b1940-c5a3-47fc-fb3c-275615439671"
      },
      "source": [
        "data3=data2.tolist()\n",
        "data3.extend(lst_output)\n",
        "plt.plot(data3[1200:])"
      ],
      "execution_count": 50,
      "outputs": [
        {
          "output_type": "execute_result",
          "data": {
            "text/plain": [
              "[<matplotlib.lines.Line2D at 0x7f21f2226358>]"
            ]
          },
          "metadata": {
            "tags": []
          },
          "execution_count": 50
        },
        {
          "output_type": "display_data",
          "data": {
            "image/png": "[encoded data removed]",
            "text/plain": [
              "<Figure size 432x288 with 1 Axes>"
            ]
          },
          "metadata": {
            "tags": [],
            "needs_background": "light"
          }
        }
      ]
    },
    {
      "cell_type": "code",
      "metadata": {
        "id": "m3221IMy-mqz",
        "colab_type": "code",
        "colab": {}
      },
      "source": [
        "data3=scaler.inverse_transform(data3).tolist()"
      ],
      "execution_count": 0,
      "outputs": []
    },
    {
      "cell_type": "code",
      "metadata": {
        "id": "GnmsOnDC-ux0",
        "colab_type": "code",
        "colab": {
          "base_uri": "https://localhost:8080/",
          "height": 283
        },
        "outputId": "11d1234e-0fe1-4444-952e-b880635eadae"
      },
      "source": [
        "plt.plot(data3)"
      ],
      "execution_count": 53,
      "outputs": [
        {
          "output_type": "execute_result",
          "data": {
            "text/plain": [
              "[<matplotlib.lines.Line2D at 0x7f21f5a1a860>]"
            ]
          },
          "metadata": {
            "tags": []
          },
          "execution_count": 53
        },
        {
          "output_type": "display_data",
          "data": {
            "image/png": "[encoded data removed]",
            "text/plain": [
              "<Figure size 432x288 with 1 Axes>"
            ]
          },
          "metadata": {
            "tags": [],
            "needs_background": "light"
          }
        }
      ]
    },
    {
      "cell_type": "code",
      "metadata": {
        "id": "rYC17G0q-ypT",
        "colab_type": "code",
        "colab": {}
      },
      "source": [
        ""
      ],
      "execution_count": 0,
      "outputs": []
    }
  ]
}